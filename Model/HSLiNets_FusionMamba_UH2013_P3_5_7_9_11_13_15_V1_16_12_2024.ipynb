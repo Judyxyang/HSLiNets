{
 "cells": [
  {
   "cell_type": "markdown",
   "metadata": {
    "id": "7adnkHUo9TBz"
   },
   "source": [
    "# Fusion HyperMamba Model"
   ]
  },
  {
   "cell_type": "code",
   "execution_count": 1,
   "metadata": {
    "colab": {
     "base_uri": "https://localhost:8080/"
    },
    "executionInfo": {
     "elapsed": 3022,
     "status": "ok",
     "timestamp": 1729546249413,
     "user": {
      "displayName": "Judy12",
      "userId": "10185014653289266631"
     },
     "user_tz": -600
    },
    "id": "a3DW2ucDRG2Z",
    "outputId": "b43f82c7-153c-4b4b-c912-9ce2adae891e"
   },
   "outputs": [],
   "source": [
    "#pip install spectral mat73  einops"
   ]
  },
  {
   "cell_type": "code",
   "execution_count": 1,
   "metadata": {
    "id": "zudwFZMrRDDC"
   },
   "outputs": [],
   "source": [
    "import numpy as np\n",
    "import torch\n",
    "import torch.nn as nn\n",
    "import torch.nn.functional as F\n",
    "import sys\n",
    "import os\n",
    "import math\n",
    "import random\n",
    "\n",
    "from scipy.ndimage import rotate\n",
    "\n",
    "from einops import rearrange\n",
    "import torch.optim as optim\n",
    "import torchvision\n",
    "from torchvision import datasets, transforms\n",
    "from scipy import io\n",
    "import torch.utils.data\n",
    "import scipy.io as sio\n",
    "import mat73\n",
    "import matplotlib.pyplot as plt\n",
    "from torch.utils.data import Dataset, DataLoader\n",
    "\n",
    "from torch.utils.data import TensorDataset, DataLoader\n",
    "from sklearn.model_selection import train_test_split\n",
    "\n",
    "import torch.optim as optim\n",
    "from torch.utils.data import DataLoader\n",
    "import copy\n",
    "import time\n",
    "import psutil\n",
    "import os\n",
    "\n",
    "from sklearn.metrics import confusion_matrix, accuracy_score, cohen_kappa_score\n",
    "from torch.utils.data import TensorDataset, DataLoader\n",
    "from sklearn.preprocessing import StandardScaler\n",
    "\n",
    "device = torch.device(\"cuda\" if torch.cuda.is_available() else \"cpu\")\n",
    "torch.manual_seed(42)\n",
    "random.seed(42)\n",
    "np.random.seed(42)\n",
    "\n",
    "m=1"
   ]
  },
  {
   "cell_type": "markdown",
   "metadata": {
    "id": "OATt9TAf90MC"
   },
   "source": [
    "# 0 Upload Data"
   ]
  },
  {
   "cell_type": "code",
   "execution_count": 2,
   "metadata": {
    "colab": {
     "base_uri": "https://localhost:8080/"
    },
    "executionInfo": {
     "elapsed": 24941,
     "status": "ok",
     "timestamp": 1729546295006,
     "user": {
      "displayName": "Judy12",
      "userId": "10185014653289266631"
     },
     "user_tz": -600
    },
    "id": "Vpwq4Yi-tgjs",
    "outputId": "f52cb187-c6a4-448c-aac2-09f16b4f0c63"
   },
   "outputs": [],
   "source": [
    "#from google.colab import drive\n",
    "#drive.mount('/content/drive')"
   ]
  },
  {
   "cell_type": "code",
   "execution_count": 3,
   "metadata": {
    "colab": {
     "base_uri": "https://localhost:8080/"
    },
    "executionInfo": {
     "elapsed": 917,
     "status": "ok",
     "timestamp": 1729546295920,
     "user": {
      "displayName": "Judy12",
      "userId": "10185014653289266631"
     },
     "user_tz": -600
    },
    "id": "vMin2GFJtorP",
    "outputId": "0daa71cf-ef67-4fc8-edf8-36eafc253039"
   },
   "outputs": [],
   "source": [
    "#! ls '/content/drive/MyDrive/A02_RemoteSensingData/UHS_2013_DFTC/'"
   ]
  },
  {
   "cell_type": "code",
   "execution_count": 4,
   "metadata": {
    "id": "4NMT_vf3t3Bg"
   },
   "outputs": [],
   "source": [
    "# # Define the path\n",
    "#path='/content/drive/MyDrive/A02_RemoteSensingData/UHS_2013_DFTC/'"
   ]
  },
  {
   "cell_type": "markdown",
   "metadata": {
    "id": "Ivt40duEwqsP"
   },
   "source": [
    "#1.0  Model Building"
   ]
  },
  {
   "cell_type": "code",
   "execution_count": 5,
   "metadata": {
    "id": "B6TlJRoRw0z4"
   },
   "outputs": [],
   "source": [
    "# Configuration class\n",
    "class Config:\n",
    "    def __init__(self, in_channels, num_patches, kernel_size, patch_size, emb_size, dim, depth, heads, dim_head, mlp_ratio, num_classes, dropout, pos_emb_size, class_emb_size, stride, output_dim):  # Set default output_dim to 1\n",
    "        self.in_channels = in_channels\n",
    "        self.num_patches = num_patches\n",
    "        self.kernel_size = kernel_size\n",
    "        self.patch_size = patch_size\n",
    "        self.emb_size = emb_size\n",
    "        self.dim = dim\n",
    "        self.depth = depth\n",
    "        self.heads = heads\n",
    "        self.dim_head = dim_head\n",
    "        self.mlp_ratio = mlp_ratio\n",
    "        self.num_classes = num_classes\n",
    "        self.dropout = dropout\n",
    "        self.pos_emb_size = pos_emb_size\n",
    "        self.class_emb_size = class_emb_size\n",
    "        self.stride = stride\n",
    "        self.output_dim = output_dim  # Ensure output_dim is a part of the config"
   ]
  },
  {
   "cell_type": "markdown",
   "metadata": {
    "id": "4a2VjJdHwP1V"
   },
   "source": [
    "### 1.1 Full Architecture Of Forward backward Processing"
   ]
  },
  {
   "cell_type": "code",
   "execution_count": 6,
   "metadata": {},
   "outputs": [],
   "source": [
    "# Reversed along bands  Method 2\n",
    "\n",
    "class HSIVimBlock(nn.Module):\n",
    "    def __init__(self, spatial_dim, num_bands, hidden_dim, output_dim, delta_param_init):\n",
    "        super(HSIVimBlock, self).__init__()\n",
    "        self.spatial_dim = spatial_dim\n",
    "        self.num_bands = num_bands\n",
    "        self.hidden_dim = hidden_dim\n",
    "\n",
    "        # LayerNorm over Bands\n",
    "        self.norm = nn.LayerNorm(num_bands)\n",
    "\n",
    "        # Adjusted linear layers to handle reversed bands\n",
    "        self.linear_x = nn.Linear(num_bands, hidden_dim)\n",
    "        self.linear_z = nn.Linear(num_bands, hidden_dim)\n",
    "\n",
    "        # Convolution for forward and backward paths\n",
    "        self.forward_conv1d = nn.Conv1d(in_channels=hidden_dim, out_channels=hidden_dim, kernel_size=3, padding=1)\n",
    "        self.backward_conv1d = nn.Conv1d(in_channels=hidden_dim, out_channels=hidden_dim, kernel_size=3, padding=1)\n",
    "\n",
    "        # Trainable matrices and delta parameter\n",
    "        self.A = nn.Parameter(torch.randn(hidden_dim, hidden_dim))\n",
    "        self.B = nn.Parameter(torch.randn(hidden_dim, hidden_dim))\n",
    "        self.delta_param = nn.Parameter(torch.full((hidden_dim,), delta_param_init))\n",
    "\n",
    "        # Linear layers for final transformation\n",
    "        self.linear_forward = nn.Linear(hidden_dim, output_dim)\n",
    "        self.linear_backward = nn.Linear(hidden_dim, output_dim)\n",
    "\n",
    "    def forward(self, x):\n",
    "        Batch, H, W, Bands = x.shape  # Input shape: [Batch, Height, Width, Bands]\n",
    "\n",
    "        # Reverse bands for z_proj\n",
    "        x_reversed = torch.flip(x, dims=[-1])  # Reverse along the Bands dimension\n",
    "\n",
    "        # Flatten spatial dimensions for processing\n",
    "        x = x.view(Batch, H * W, Bands)  # Shape: [Batch, H*W, Bands]\n",
    "        z = x_reversed.view(Batch, H * W, Bands)  # Shape: [Batch, H*W, Bands]\n",
    "\n",
    "        # Apply LayerNorm to the Bands dimension\n",
    "        x = self.norm(x)  # Shape: [Batch, H*W, Bands]\n",
    "        z = self.norm(z)  # Shape: [Batch, H*W, Bands]\n",
    "\n",
    "        # Linear projection to hidden dimensions\n",
    "        x_proj = self.linear_x(x)  # Shape: [Batch, H*W, hidden_dim]\n",
    "        z_proj = self.linear_z(z)  # Shape: [Batch, H*W, hidden_dim]\n",
    "\n",
    "        # Reshape for Conv1d compatibility\n",
    "        x_proj = x_proj.permute(0, 2, 1)  # Shape: [Batch, hidden_dim, H*W]\n",
    "        z_proj = z_proj.permute(0, 2, 1)  # Shape: [Batch, hidden_dim, H*W]\n",
    "\n",
    "        # Reverse the spatial dimension for backward path\n",
    "        #z_proj_reversed = torch.flip(z_proj, dims=[-1])  # Reverse along the spatial dimension\n",
    "\n",
    "        # Conv1D processing\n",
    "        x_forward = F.silu(self.forward_conv1d(x_proj))\n",
    "        x_backward = F.silu(self.backward_conv1d(z_proj))\n",
    "\n",
    "        # Apply delta parameter\n",
    "        delta_expanded = self.delta_param.unsqueeze(0).unsqueeze(2)  # Shape: [1, hidden_dim, 1]\n",
    "\n",
    "        # Forward and backward SSM processing\n",
    "        forward_ssm_output = torch.tanh(\n",
    "            self.forward_conv1d(x_proj) + torch.matmul(self.A, x_proj) + delta_expanded\n",
    "        )\n",
    "        backward_ssm_output = torch.tanh(\n",
    "            self.backward_conv1d(z_proj) + torch.matmul(self.B, z_proj) + delta_expanded\n",
    "        )\n",
    "\n",
    "        # Combine forward and backward outputs\n",
    "        forward_reduced = forward_ssm_output.mean(dim=2)  # Shape: [Batch, hidden_dim]\n",
    "        backward_reduced = backward_ssm_output.mean(dim=2)  # Shape: [Batch, hidden_dim]\n",
    "\n",
    "        # Linear layers for final transformation\n",
    "        y_forward = self.linear_forward(forward_reduced)  # Shape: [Batch, output_dim]\n",
    "        y_backward = self.linear_backward(backward_reduced)  # Shape: [Batch, output_dim]\n",
    "\n",
    "        # Combine forward and backward results\n",
    "        y_combined = y_forward + y_backward  # Shape: [Batch, output_dim]\n",
    "\n",
    "        return y_combined"
   ]
  },
  {
   "cell_type": "code",
   "execution_count": 7,
   "metadata": {
    "id": "ZwRy8jeeXvZ8"
   },
   "outputs": [],
   "source": [
    "# # Version 2.0 This involves reversing the input tensor for the backward path before applying the backward_conv1d operation\n",
    "\n",
    "# class HSIVimBlock(nn.Module):\n",
    "#     def __init__(self, spatial_dim, num_bands, hidden_dim, output_dim, delta_param_init):\n",
    "#         super(HSIVimBlock, self).__init__()\n",
    "#         input_dim = spatial_dim * spatial_dim * num_bands\n",
    "#         self.norm = nn.LayerNorm(input_dim)\n",
    "#         # Initialization with self.hidden_dim\n",
    "#         self.spatial_dim = spatial_dim\n",
    "#         self.num_bands = num_bands\n",
    "#         self.hidden_dim = hidden_dim\n",
    "\n",
    "#         # LayerNorm is now expecting a flattened feature vector of Bands*H*W elements\n",
    "#         self.norm = nn.LayerNorm(num_bands * spatial_dim * spatial_dim)\n",
    "\n",
    "#         # Adjust linear layers according to the new input dimension\n",
    "#         self.linear_x = nn.Linear(num_bands * spatial_dim * spatial_dim, hidden_dim)\n",
    "#         self.linear_z = nn.Linear(num_bands * spatial_dim * spatial_dim, hidden_dim)\n",
    "\n",
    "#         self.forward_conv1d = nn.Conv1d(in_channels=hidden_dim, out_channels=hidden_dim, kernel_size=3, padding=1)\n",
    "#         self.backward_conv1d = nn.Conv1d(in_channels=hidden_dim, out_channels=hidden_dim, kernel_size=3, padding=1)\n",
    "\n",
    "#         self.A = nn.Parameter(torch.randn(hidden_dim, hidden_dim))\n",
    "#         self.B = nn.Parameter(torch.randn(hidden_dim, hidden_dim))\n",
    "#         #self.C = nn.Parameter(torch.randn(output_dim, hidden_dim))\n",
    "#         self.delta_param = nn.Parameter(torch.full((hidden_dim,), delta_param_init))\n",
    "\n",
    "#         self.linear_forward = nn.Linear(hidden_dim, output_dim)\n",
    "#         self.linear_backward = nn.Linear(hidden_dim, output_dim)\n",
    "\n",
    "#     def forward(self, x):\n",
    "#         Batch, H, W, Bands = x.shape  # Correct shape extraction assuming [Batch, Height, Width, Bands]\n",
    "\n",
    "#         # Correctly reshape for LayerNorm to flatten all spatial and spectral information\n",
    "#         x = x.reshape(Batch, -1)  # New shape: [Batch, Bands*H*W]\n",
    "\n",
    "#         # Normalize across the flattened spatial-spectral data\n",
    "#         x = self.norm(x)\n",
    "\n",
    "#         # Projection to hidden dimensions\n",
    "#         x_proj = self.linear_x(x)\n",
    "#         z_proj = self.linear_z(x)\n",
    "\n",
    "#         # Ensure correct reshaping for Conv1d compatibility\n",
    "#         x_proj = x_proj.view(Batch, self.hidden_dim, -1)\n",
    "#         z_proj = z_proj.view(Batch, self.hidden_dim, -1)\n",
    "\n",
    "#         # Reverse z_proj for the backward path\n",
    "#         z_proj_reversed = torch.flip(z_proj, dims=[-1])\n",
    "\n",
    "#         # Bidirectional Conv1d processing using reversed input for the backward path\n",
    "#         x_forward = F.silu(self.forward_conv1d(x_proj))\n",
    "#         x_backward = F.silu(self.backward_conv1d(z_proj_reversed))\n",
    "\n",
    "#         # Apply delta parameter correctly\n",
    "#         delta_expanded = self.delta_param.unsqueeze(0).unsqueeze(2)  # Correct shape for broadcasting\n",
    "\n",
    "#         # SSM processing with delta applied, using the original and reversed inputs for forward and backward paths respectively\n",
    "#         forward_ssm_output = torch.tanh(self.forward_conv1d(x_proj) + self.A * delta_expanded)\n",
    "#         backward_ssm_output = torch.tanh(self.backward_conv1d(z_proj_reversed) + self.B * delta_expanded)\n",
    "\n",
    "#         # Combine forward and backward outputs into a single representation\n",
    "#         forward_reduced = forward_ssm_output.mean(dim=2)\n",
    "#         backward_reduced = backward_ssm_output.mean(dim=2)\n",
    "\n",
    "#         # Combine the reduced forward and backward paths\n",
    "#         y_forward = self.linear_forward(forward_reduced)\n",
    "#         y_backward = self.linear_backward(backward_reduced)\n",
    "\n",
    "#         # Element-wise sum of forward and backward outputs\n",
    "#         y_combined = y_forward + y_backward\n",
    "\n",
    "#         # Return the combined output\n",
    "#         return y_combined\n"
   ]
  },
  {
   "cell_type": "markdown",
   "metadata": {
    "id": "zZnKBx3C9lG0"
   },
   "source": [
    "### 1.2 SpatialFeature processing"
   ]
  },
  {
   "cell_type": "code",
   "execution_count": 8,
   "metadata": {
    "id": "02uU_S6M3EQf"
   },
   "outputs": [],
   "source": [
    "# New version\n",
    "class SpatialFeatureProcessing(nn.Module):\n",
    "    def __init__(self, input_channels):\n",
    "        super(SpatialFeatureProcessing, self).__init__()\n",
    "        self.conv_layers = nn.Sequential(\n",
    "            # First convolutional layer with dilation rate of 1 (standard convolution)\n",
    "            nn.Conv2d(in_channels=input_channels, out_channels=256, kernel_size=(3, 3), padding=1, dilation=1),\n",
    "            nn.ReLU(),\n",
    "            nn.BatchNorm2d(256),\n",
    "            # Second convolutional layer with a higher dilation rate to increase the receptive field\n",
    "            nn.Conv2d(in_channels=256, out_channels=512, kernel_size=(3, 3), padding=2, dilation=2),  # Note the increased padding to maintain the spatial dimensions\n",
    "            nn.ReLU(),\n",
    "            nn.BatchNorm2d(512)\n",
    "        )\n",
    "        self.global_avg_pool = nn.AdaptiveAvgPool2d((1, 1))  # Adding global average pooling\n",
    "\n",
    "    def forward(self, x):\n",
    "        x = self.conv_layers(x)\n",
    "        x = self.global_avg_pool(x)  # Apply global average pooling\n",
    "        x = torch.flatten(x, start_dim=1)  # Flatten all dimensions except batch\n",
    "        return x"
   ]
  },
  {
   "cell_type": "markdown",
   "metadata": {
    "id": "lIN7Jlj59qI0"
   },
   "source": [
    "### 1.3 Classifier"
   ]
  },
  {
   "cell_type": "code",
   "execution_count": 9,
   "metadata": {
    "id": "DCVCyDOHf0ol"
   },
   "outputs": [],
   "source": [
    "class Classifier(nn.Module):\n",
    "    def __init__(self, in_features, num_classes):\n",
    "        super(Classifier, self).__init__()\n",
    "        self.fc_layers = nn.Sequential(\n",
    "            nn.Linear(in_features=in_features, out_features=1024),\n",
    "            nn.ReLU(),\n",
    "            nn.Dropout(0.4),\n",
    "            nn.Linear(in_features=1024, out_features=num_classes),\n",
    "        )\n",
    "\n",
    "    def forward(self, x):\n",
    "        x = self.fc_layers(x)\n",
    "        # Remove softmax here if you're using a loss function that includes it, such as nn.CrossEntropyLoss\n",
    "        return x\n"
   ]
  },
  {
   "cell_type": "markdown",
   "metadata": {
    "id": "T-iDoAegAj8D"
   },
   "source": [
    "# 1.4 Integrated into Main Model"
   ]
  },
  {
   "cell_type": "code",
   "execution_count": 10,
   "metadata": {},
   "outputs": [],
   "source": [
    "class HSIClassificationMambaModel(nn.Module):\n",
    "    def __init__(self, spatial_dim, num_bands, hidden_dim, output_dim, delta_param_init, num_classes):\n",
    "        super(HSIClassificationMambaModel, self).__init__()\n",
    "        self.vim_block = HSIVimBlock(spatial_dim, num_bands, hidden_dim, output_dim, delta_param_init)\n",
    "        self.output_dim = output_dim  # Save output_dim as an attribute of the class\n",
    "\n",
    "        # Initialize SpatialFeatureProcessing and Classifier here\n",
    "        # Adjusted to pass 'output_dim' as 'input_channels' to SpatialFeatureProcessing\n",
    "        self.spatial_processing = SpatialFeatureProcessing(input_channels=output_dim)\n",
    "        # Assuming the output of SpatialFeatureProcessing matches the in_features expected by Classifier\n",
    "        self.classifier = Classifier(in_features=512, num_classes=num_classes)\n",
    "\n",
    "    def forward(self, x):\n",
    "        x = self.vim_block(x)\n",
    "        # This is a placeholder. Actual reshaping depends on the output of HSIVimBlock and the input expectation of SpatialFeatureProcessing\n",
    "        x = x.view(-1, self.output_dim, 1, 1)  # Reshape to include spatial dimensions if needed\n",
    "        x = self.spatial_processing(x)\n",
    "\n",
    "        # Flatten the output from spatial processing if it's not already flat\n",
    "        x = torch.flatten(x, start_dim=1)\n",
    "\n",
    "        x = self.classifier(x)\n",
    "        return x"
   ]
  },
  {
   "cell_type": "markdown",
   "metadata": {
    "id": "4YPTp6kBEwgr"
   },
   "source": [
    "# Instance the Model"
   ]
  },
  {
   "cell_type": "code",
   "execution_count": 11,
   "metadata": {
    "colab": {
     "base_uri": "https://localhost:8080/"
    },
    "executionInfo": {
     "elapsed": 319,
     "status": "ok",
     "timestamp": 1716845917956,
     "user": {
      "displayName": "Judy12",
      "userId": "10185014653289266631"
     },
     "user_tz": -600
    },
    "id": "pjaOisQ-e9vP",
    "outputId": "14ff2763-5c44-4640-8888-b9926cea4065"
   },
   "outputs": [],
   "source": [
    "# # At The Middel Stage\n",
    "# # Instantiate the model\n",
    "# model = HSILidClassificationMambaModel(\n",
    "#     spatial_dim=7,\n",
    "#     hsi_num_bands=63,\n",
    "#     lidar_num_bands=1,\n",
    "#     hidden_dim=512,\n",
    "#     output_dim=256,\n",
    "#     delta_param_init=0.01,\n",
    "#     num_classes=20\n",
    "# )\n",
    "\n",
    "# # Print the model architecture\n",
    "# print(model)"
   ]
  },
  {
   "cell_type": "markdown",
   "metadata": {
    "id": "_7hfU1LYg_PW"
   },
   "source": [
    "#3  Data Preparation"
   ]
  },
  {
   "cell_type": "code",
   "execution_count": 12,
   "metadata": {
    "colab": {
     "base_uri": "https://localhost:8080/"
    },
    "executionInfo": {
     "elapsed": 274,
     "status": "ok",
     "timestamp": 1716845322054,
     "user": {
      "displayName": "Judy12",
      "userId": "10185014653289266631"
     },
     "user_tz": -600
    },
    "id": "ceR1uP-X1pvx",
    "outputId": "0f4be107-b9f5-4bec-d1a2-b9c69dec83f2"
   },
   "outputs": [
    {
     "name": "stdout",
     "output_type": "stream",
     "text": [
      "{1: {'class_name': 'Healthy grass', 'training_sample': 198, 'test_sample': 1053, 'total_samples': 1251}, 2: {'class_name': 'Stressed grass', 'training_sample': 190, 'test_sample': 1064, 'total_samples': 1254}, 3: {'class_name': 'Synthetic grass', 'training_sample': 192, 'test_sample': 505, 'total_samples': 697}, 4: {'class_name': 'Trees', 'training_sample': 188, 'test_sample': 1058, 'total_samples': 1244}, 5: {'class_name': 'Soil', 'training_sample': 186, 'test_sample': 1056, 'total_samples': 1242}, 6: {'class_name': 'Water', 'training_sample': 182, 'test_sample': 141, 'total_samples': 325}, 7: {'class_name': 'Residential', 'training_sample': 196, 'test_sample': 1072, 'total_samples': 1268}, 8: {'class_name': 'Commercial', 'training_sample': 191, 'test_sample': 1053, 'total_samples': 1244}, 9: {'class_name': 'Road', 'training_sample': 193, 'test_sample': 1059, 'total_samples': 1252}, 10: {'class_name': 'Highway', 'training_sample': 191, 'test_sample': 1036, 'total_samples': 1227}, 11: {'class_name': 'Railway', 'training_sample': 181, 'test_sample': 1054, 'total_samples': 1235}, 12: {'class_name': 'Parking lot 1', 'training_sample': 192, 'test_sample': 1041, 'total_samples': 1233}, 13: {'class_name': 'Parking lot 2', 'training_sample': 184, 'test_sample': 285, 'total_samples': 469}, 14: {'class_name': 'Tennis court', 'training_sample': 181, 'test_sample': 247, 'total_samples': 428}, 15: {'class_name': 'Running track', 'training_sample': 187, 'test_sample': 473, 'total_samples': 660}}\n"
     ]
    }
   ],
   "source": [
    "# 2.1 Define the class information\n",
    "class_info = [(1, \"Healthy grass\", 'training_sample', 198, 'test_sample', 1053,  'total', 1251),\n",
    "    (2, \"Stressed grass\",'training_sample', 190, 'test_sample', 1064,  'total', 1254),\n",
    "    (3, \"Synthetic grass\", 'training_sample', 192, 'test_sample', 505,  'total', 697),\n",
    "    (4, \"Trees\", 'training_sample', 188, 'test_sample', 1058,  'total', 1244),\n",
    "    (5, \"Soil\",'training_sample', 186, 'test_sample', 1056,  'total', 1242),\n",
    "    (6, \"Water\", 'training_sample', 182, 'test_sample', 141,  'total', 325),\n",
    "    (7, \"Residential\", 'training_sample', 196, 'test_sample', 1072,  'total', 1268),\n",
    "    (8, \"Commercial\", 'training_sample', 191, 'test_sample', 1053,  'total', 1244),\n",
    "    (9, \"Road\", 'training_sample', 193, 'test_sample', 1059,  'total', 1252),\n",
    "    (10, \"Highway\", 'training_sample', 191, 'test_sample', 1036,  'total', 1227),\n",
    "    (11, \"Railway\", 'training_sample', 181, 'test_sample', 1054,  'total', 1235),\n",
    "    (12, \"Parking lot 1\", 'training_sample', 192, 'test_sample', 1041,  'total', 1233),\n",
    "    (13, \"Parking lot 2\", 'training_sample', 184, 'test_sample',285,  'total', 469),\n",
    "    (14, \"Tennis court\",'training_sample', 181, 'test_sample', 247,  'total', 428),\n",
    "    (15, \"Running track\", 'training_sample', 187, 'test_sample', 473,  'total', 660)]\n",
    "\n",
    "# Create a dictionary to store class number, class name, and class samples\n",
    "class_dict = {class_number: {\"class_name\": class_name,\n",
    "                             'training_sample': training_sample,\n",
    "                             'test_sample': test_sample,\n",
    "                             \"total_samples\": total}\n",
    "              for class_number, class_name, _, training_sample, _, test_sample, _, total in class_info}\n",
    "\n",
    "print(class_dict)\n"
   ]
  },
  {
   "cell_type": "code",
   "execution_count": 13,
   "metadata": {
    "colab": {
     "base_uri": "https://localhost:8080/"
    },
    "executionInfo": {
     "elapsed": 1799,
     "status": "ok",
     "timestamp": 1729547339818,
     "user": {
      "displayName": "Judy12",
      "userId": "10185014653289266631"
     },
     "user_tz": -600
    },
    "id": "3d23b73f",
    "outputId": "b2f860b1-3ebc-4fbb-839c-86cf3c50cb72"
   },
   "outputs": [
    {
     "name": "stdout",
     "output_type": "stream",
     "text": [
      "hsi_2013_data shape: (349, 1905, 144)\n",
      "Lidar_2013_data shape: (349, 1905, 1)\n",
      "gt_2013_data.shape: (349, 1905)\n"
     ]
    }
   ],
   "source": [
    "# 2.1 Loads Data\n",
    "# Load hyperpsectral data\n",
    "hsi_2013_data=sio.loadmat('2013_IEEE_GRSS_DF_Contest_CASI_349_1905_144.mat')['ans']\n",
    "print('hsi_2013_data shape:', hsi_2013_data.shape)\n",
    "\n",
    "# Loader Lidar  data\n",
    "import mat73\n",
    "lidar_2013_data = sio.loadmat('2013_IEEE_GRSS_DF_Contest_LiDAR.mat')['LiDAR_data']\n",
    "\n",
    "print('Lidar_2013_data shape:', lidar_2013_data.shape)\n",
    "\n",
    "#Load ground truth labels\n",
    "gt_2013_data=sio.loadmat('GRSS2013.mat')['name']\n",
    "print('gt_2013_data.shape:', gt_2013_data.shape)"
   ]
  },
  {
   "cell_type": "markdown",
   "metadata": {},
   "source": [
    "# Nomralisation Raw Data "
   ]
  },
  {
   "cell_type": "code",
   "execution_count": 14,
   "metadata": {},
   "outputs": [
    {
     "name": "stdout",
     "output_type": "stream",
     "text": [
      "HSI data shape: (349, 1905, 144)\n",
      "HSI normalized shape: (349, 1905, 144)\n",
      "LiDAR data shape: (349, 1905, 1)\n",
      "LiDAR normalized shape: (349, 1905, 1)\n"
     ]
    }
   ],
   "source": [
    "import numpy as np\n",
    "from sklearn.preprocessing import MinMaxScaler, StandardScaler\n",
    "\n",
    "# Normalization function for HSI and LiDAR data\n",
    "def normalize_data(data, method=\"minmax\"):\n",
    "    \"\"\"\n",
    "    Normalize hyperspectral or LiDAR data.\n",
    "    \n",
    "    Args:\n",
    "        data (numpy array): Input data array (e.g., HSI or LiDAR).\n",
    "        method (str): Normalization method, \"minmax\" or \"zscore\".\n",
    "    \n",
    "    Returns:\n",
    "        numpy array: Normalized data.\n",
    "    \"\"\"\n",
    "    if method == \"minmax\":\n",
    "        # Reshape the data for MinMaxScaler\n",
    "        scaler = MinMaxScaler()\n",
    "        flat_data = data.reshape(-1, data.shape[-1])\n",
    "        normalized_data = scaler.fit_transform(flat_data).reshape(data.shape)\n",
    "    elif method == \"zscore\":\n",
    "        # Standard normalization: zero mean, unit variance\n",
    "        scaler = StandardScaler()\n",
    "        flat_data = data.reshape(-1, data.shape[-1])\n",
    "        normalized_data = scaler.fit_transform(flat_data).reshape(data.shape)\n",
    "    else:\n",
    "        raise ValueError(\"Unsupported normalization method. Use 'minmax' or 'zscore'.\")\n",
    "    \n",
    "    return normalized_data\n",
    "\n",
    "# Load hyperspectral data\n",
    "hsi_2013_data = sio.loadmat('2013_IEEE_GRSS_DF_Contest_CASI_349_1905_144.mat')['ans']\n",
    "print('HSI data shape:', hsi_2013_data.shape)\n",
    "\n",
    "# Normalize HSI data\n",
    "hsi_2013_data_normalized = normalize_data(hsi_2013_data, method=\"minmax\")\n",
    "print('HSI normalized shape:', hsi_2013_data_normalized.shape)\n",
    "\n",
    "# Load LiDAR data\n",
    "lidar_2013_data = sio.loadmat('2013_IEEE_GRSS_DF_Contest_LiDAR.mat')['LiDAR_data']\n",
    "print('LiDAR data shape:', lidar_2013_data.shape)\n",
    "\n",
    "# Normalize LiDAR data\n",
    "# Since LiDAR has a single band, we normalize over the first two dimensions only\n",
    "lidar_min = np.min(lidar_2013_data)\n",
    "lidar_max = np.max(lidar_2013_data)\n",
    "lidar_2013_data_normalized = (lidar_2013_data - lidar_min) / (lidar_max - lidar_min)\n",
    "print('LiDAR normalized shape:', lidar_2013_data_normalized.shape)"
   ]
  },
  {
   "cell_type": "markdown",
   "metadata": {},
   "source": [
    "# Random Dataset "
   ]
  },
  {
   "cell_type": "code",
   "execution_count": 15,
   "metadata": {
    "colab": {
     "base_uri": "https://localhost:8080/"
    },
    "executionInfo": {
     "elapsed": 721,
     "status": "ok",
     "timestamp": 1716846425192,
     "user": {
      "displayName": "Judy12",
      "userId": "10185014653289266631"
     },
     "user_tz": -600
    },
    "id": "TUkT_fg8w8uH",
    "outputId": "7182b357-ef19-49e6-8517-647fc1b649a9"
   },
   "outputs": [
    {
     "name": "stdout",
     "output_type": "stream",
     "text": [
      "hsi_samples shape: (15029, 1, 1, 144)\n",
      "lidar_samples shape: (15029, 1, 1, 1)\n",
      "labels shape: (15029,)\n"
     ]
    }
   ],
   "source": [
    "# 2.2 Samples Extraction\n",
    "\n",
    "# Define patch size and stride\n",
    "patch_size = m\n",
    "stride = 1\n",
    "\n",
    "# Create an empty list to store patches and labels\n",
    "hsi_samples = []\n",
    "lidar_samples = []\n",
    "labels = []\n",
    "\n",
    "# Initialize a dictionary to store class count\n",
    "class_count = {i: 0 for i in class_dict.keys()}\n",
    "\n",
    "# Function to check if all classes have the required number of samples\n",
    "def all_classes_completed(class_count, class_dict):\n",
    "    return all(class_count[class_num] == class_dict[class_num][\"total_samples\"] for class_num in class_dict.keys())\n",
    "\n",
    "while not all_classes_completed(class_count, class_dict):\n",
    "    # Loop through the ground truth data\n",
    "    for label in class_dict.keys():\n",
    "        # Get the coordinates of the ground truth pixels\n",
    "        #coords = np.argwhere((gt_2013_data == label) & (mask > 0))\n",
    "        coords = np.argwhere(gt_2013_data == label)\n",
    "\n",
    "        # Shuffle the coordinates to randomize the patch extraction\n",
    "        np.random.shuffle(coords)\n",
    "\n",
    "        for coord in coords:\n",
    "            i, j = coord\n",
    "            # Calculate the patch indices\n",
    "            i_start, i_end = i - patch_size // 2, i + patch_size // 2 + 1\n",
    "            j_start, j_end = j - patch_size // 2, j + patch_size // 2 + 1\n",
    "\n",
    "            # Check if the indices are within the bounds of the HSI data\n",
    "            if i_start >= 0 and i_end <= hsi_2013_data.shape[0] and j_start >= 0 and j_end <= hsi_2013_data.shape[1]:\n",
    "                # Extract the patch\n",
    "                hsi_patch = hsi_2013_data[i_start:i_end, j_start:j_end, :]\n",
    "\n",
    "                # Extract the LiDAR patch\n",
    "                lidar_patch = lidar_2013_data[i_start:i_end, j_start:j_end, :]\n",
    "\n",
    "                # If the class count is less than the required samples\n",
    "                if class_count[label] < class_dict[label][\"total_samples\"]:\n",
    "                    # Append the patch and its label to the list\n",
    "                    hsi_samples.append(hsi_patch)\n",
    "                    lidar_samples.append(lidar_patch)\n",
    "                    labels.append(label)\n",
    "                    class_count[label] += 1\n",
    "\n",
    "                    # If all classes have the required number of samples, exit the loop\n",
    "                    if all_classes_completed(class_count, class_dict):\n",
    "                        break\n",
    "\n",
    "# Convert the list of patches and labels into arrays\n",
    "hsi_samples = np.array(hsi_samples)\n",
    "lidar_samples = np.array(lidar_samples)\n",
    "labels = np.array(labels)\n",
    "print('hsi_samples shape:', hsi_samples.shape)\n",
    "print('lidar_samples shape:', lidar_samples.shape)\n",
    "print('labels shape:', labels.shape)"
   ]
  },
  {
   "cell_type": "code",
   "execution_count": 257,
   "metadata": {
    "colab": {
     "base_uri": "https://localhost:8080/"
    },
    "executionInfo": {
     "elapsed": 281,
     "status": "ok",
     "timestamp": 1716846452986,
     "user": {
      "displayName": "Judy12",
      "userId": "10185014653289266631"
     },
     "user_tz": -600
    },
    "id": "YR4vwscb1NMY",
    "outputId": "2807859b-339a-4962-bfe4-fc8047c336c4"
   },
   "outputs": [
    {
     "name": "stdout",
     "output_type": "stream",
     "text": [
      "hsi_training_samples shape: (2832, 1, 1, 144)\n",
      "lidar_training_samples shape: (2832, 1, 1, 1)\n",
      "training_labels shape: (2832,)\n",
      "hsi_test_samples shape: (12197, 1, 1, 144)\n",
      "lidar_test_samples shape: (12197, 1, 1, 1)\n",
      "test_labels shape: (12197,)\n"
     ]
    }
   ],
   "source": [
    "# Create training_samples_dict based on class_dict\n",
    "training_samples_dict = {class_num: class_info[\"training_sample\"] for class_num, class_info in class_dict.items()}\n",
    "\n",
    "# Assuming `hsi_samples`, `lidar_samples`, and `labels` have been previously defined\n",
    "# Convert the list of patches and labels into arrays if they aren't already\n",
    "hsi_samples = np.array(hsi_samples)\n",
    "lidar_samples = np.array(lidar_samples)\n",
    "labels = np.array(labels)\n",
    "\n",
    "# Create lists to store training and test samples and labels\n",
    "hsi_training_samples, lidar_training_samples, training_labels = [], [], []\n",
    "hsi_test_samples, lidar_test_samples, test_labels = [], [], []\n",
    "\n",
    "# Split samples into training and test sets based on the desired number of training samples\n",
    "for label, train_samples in training_samples_dict.items():\n",
    "    # Get indices of the current class\n",
    "    class_indices = np.where(labels == label)[0]\n",
    "\n",
    "    # Randomly shuffle the indices\n",
    "    np.random.shuffle(class_indices)\n",
    "\n",
    "    # Split the indices into training and test set indices\n",
    "    train_indices = class_indices[:train_samples]\n",
    "    test_indices = class_indices[train_samples:]\n",
    "\n",
    "    # Add training samples and labels for the current class\n",
    "    hsi_training_samples.extend(hsi_samples[train_indices])\n",
    "    lidar_training_samples.extend(lidar_samples[train_indices])\n",
    "    training_labels.extend(labels[train_indices])\n",
    "\n",
    "    # Add test samples and labels for the current class\n",
    "    hsi_test_samples.extend(hsi_samples[test_indices])\n",
    "    lidar_test_samples.extend(lidar_samples[test_indices])\n",
    "    test_labels.extend(labels[test_indices])\n",
    "\n",
    "# Convert lists back to numpy arrays\n",
    "hsi_train_samples = np.array(hsi_training_samples)\n",
    "lidar_train_samples = np.array(lidar_training_samples)\n",
    "training_labels = np.array(training_labels)\n",
    "\n",
    "hsi_test_samples = np.array(hsi_test_samples)\n",
    "lidar_test_samples = np.array(lidar_test_samples)\n",
    "test_labels = np.array(test_labels)\n",
    "\n",
    "# Print shapes to verify\n",
    "print('hsi_training_samples shape:', hsi_train_samples.shape)\n",
    "print('lidar_training_samples shape:', lidar_train_samples.shape)\n",
    "print('training_labels shape:', training_labels.shape)\n",
    "\n",
    "print('hsi_test_samples shape:', hsi_test_samples.shape)\n",
    "print('lidar_test_samples shape:', lidar_test_samples.shape)\n",
    "print('test_labels shape:', test_labels.shape)\n"
   ]
  },
  {
   "cell_type": "markdown",
   "metadata": {},
   "source": [
    "# Defined Location Train smaples , Same as Danfeng "
   ]
  },
  {
   "cell_type": "code",
   "execution_count": 258,
   "metadata": {},
   "outputs": [
    {
     "name": "stdout",
     "output_type": "stream",
     "text": [
      "Band Indices: [0, 1, 2, 3, 4, 5, 6, 7, 8, 9, 10, 11, 12, 13, 14, 15, 16, 17, 18, 19, 20, 21, 22, 23, 24, 25, 26, 27, 28, 29, 30, 31, 32, 33, 34, 35, 36, 37, 38, 39, 40, 41, 42, 43, 44, 45, 46, 47, 48, 49, 50, 51, 52, 53, 54, 55, 56, 57, 58, 59, 60, 61, 62, 63, 64, 65, 66, 67, 68, 69, 70, 71, 72, 73, 74, 75, 76, 77, 78, 79, 80, 81, 82, 83, 84, 85, 86, 87, 88, 89, 90, 91, 92, 93, 94, 95, 96, 97, 98, 99, 100, 101, 102, 103, 104, 105, 106, 107, 108, 109, 110, 111, 112, 113, 114, 115, 116, 117, 118, 119, 120, 121, 122, 123, 124, 125, 126, 127, 128, 129, 130, 131, 132, 133, 134, 135, 136, 137, 138, 139, 140, 141, 142, 143]\n",
      "selected_hsi_train_samples  shape: (2832, 1, 1, 144)\n",
      "selected_hsi_test_sample shape: (12197, 1, 1, 144)\n",
      "selected_lidar_train shape: (2832, 1, 1, 1)\n",
      "selected_lidar_test shape: (12197, 1, 1, 1)\n",
      "selected_hsi_lidar_train_samples shape: (2832, 1, 1, 145)\n",
      "hsselected_hsi_lidar_test_samples shape: (12197, 1, 1, 145)\n",
      "X_train shape: (2832, 1, 1, 145)\n",
      "X_test shape: (12197, 1, 1, 145)\n",
      "y_train shape: (2832,)\n",
      "y_test shape: (12197,)\n"
     ]
    }
   ],
   "source": [
    "# Generate a list of indices for the 144 bands\n",
    "full_bands = list(range(144))\n",
    "\n",
    "# Print the list of band indices\n",
    "print(\"Band Indices:\", full_bands)\n",
    "band_indices=full_bands\n",
    "\n",
    "\n",
    "# Extract the corresponding bands from the augmented training samples\n",
    "selected_hsi_train_samples = hsi_train_samples[:,:,:, band_indices]\n",
    "selected_hsi_test_samples = hsi_test_samples[:,:,:, band_indices]\n",
    "selected_lidar_train =  lidar_train_samples\n",
    "selected_lidar_test = lidar_test_samples\n",
    "print('selected_hsi_train_samples  shape:', selected_hsi_train_samples .shape)\n",
    "print('selected_hsi_test_sample shape:', selected_hsi_test_samples.shape)\n",
    "print('selected_lidar_train shape:', selected_lidar_train.shape)\n",
    "print('selected_lidar_test shape:', selected_lidar_test.shape)\n",
    "\n",
    "# #Adding LiDAR Data to Reduced bands HSI Data,concatenate the data along axis 3\n",
    "# Concatenate along axis 3 (the band/channel axis)\n",
    "selected_hsi_lidar_train_samples = np.concatenate((selected_hsi_train_samples, selected_lidar_train), axis=3)\n",
    "selected_hsi_lidar_test_samples = np.concatenate((selected_hsi_test_samples, selected_lidar_test), axis=3)\n",
    "\n",
    "# Check the shapes of the concatenated samples\n",
    "print('selected_hsi_lidar_train_samples shape:', selected_hsi_lidar_train_samples.shape)\n",
    "print('hsselected_hsi_lidar_test_samples shape:', selected_hsi_lidar_test_samples.shape)\n",
    "\n",
    "\n",
    "X_train=selected_hsi_lidar_train_samples\n",
    "X_test=selected_hsi_lidar_test_samples\n",
    "y_train=training_labels\n",
    "y_test=test_labels\n",
    "\n",
    "print('X_train shape:', X_train.shape)\n",
    "print('X_test shape:', X_test.shape)\n",
    "print('y_train shape:', y_train.shape)\n",
    "print('y_test shape:', y_test.shape)"
   ]
  },
  {
   "cell_type": "markdown",
   "metadata": {},
   "source": [
    "# Data method 2, Only HSI "
   ]
  },
  {
   "cell_type": "code",
   "execution_count": 259,
   "metadata": {},
   "outputs": [],
   "source": [
    "# X_train=selected_hsi_train_samples\n",
    "# X_test=selected_hsi_test_samples\n",
    "# y_train=training_labels\n",
    "# y_test=test_labels\n"
   ]
  },
  {
   "cell_type": "markdown",
   "metadata": {},
   "source": [
    "# Data method 3, Only HSI "
   ]
  },
  {
   "cell_type": "code",
   "execution_count": 260,
   "metadata": {},
   "outputs": [],
   "source": [
    "# # Data method 2, Only LiDAR\n",
    "# X_train=  lidar_train_samples\n",
    "# X_test = lidar_test_samples\n",
    "# y_train=training_labels\n",
    "# y_test=test_labels"
   ]
  },
  {
   "cell_type": "code",
   "execution_count": 261,
   "metadata": {},
   "outputs": [
    {
     "name": "stdout",
     "output_type": "stream",
     "text": [
      "Augmented HSI training samples shape: (16992, 1, 1, 145)\n",
      "Augmented training labels shape: (16992,)\n"
     ]
    }
   ],
   "source": [
    "# import numpy as np\n",
    "# from scipy.ndimage import rotate\n",
    "\n",
    "def augment_training_data(hsi_training_data, training_labels, rotations=[45, 90, 135], flip_up_down=True, flip_left_right=True):\n",
    "    augmented_hsi = []\n",
    "    augmented_labels = []\n",
    "\n",
    "    for hsi, label in zip(hsi_training_data, training_labels):\n",
    "        # Original data\n",
    "        augmented_hsi.append(hsi)\n",
    "        augmented_labels.append(label)\n",
    "\n",
    "        # Rotations\n",
    "        for angle in rotations:\n",
    "            hsi_rotated = rotate(hsi, angle, axes=(0, 1), reshape=False, mode='nearest')\n",
    "            augmented_hsi.append(hsi_rotated)\n",
    "            augmented_labels.append(label)\n",
    "\n",
    "        # Flip up-down\n",
    "        if flip_up_down:\n",
    "            hsi_flipped_ud = np.flipud(hsi)\n",
    "            augmented_hsi.append(hsi_flipped_ud)\n",
    "            augmented_labels.append(label)\n",
    "\n",
    "        # Flip left-right\n",
    "        if flip_left_right:\n",
    "            hsi_flipped_lr = np.flipud(hsi)\n",
    "            augmented_hsi.append(hsi_flipped_lr)\n",
    "            augmented_labels.append(label)\n",
    "\n",
    "    return np.array(augmented_hsi), np.array(augmented_labels)\n",
    "\n",
    "# Augmenting the training samples\n",
    "augmented_hsi_training_samples, augmented_training_labels = augment_training_data(X_train,y_train)\n",
    "\n",
    "# Print shapes to verify the augmented training data\n",
    "print('Augmented HSI training samples shape:', augmented_hsi_training_samples.shape)\n",
    "print('Augmented training labels shape:', augmented_training_labels.shape)"
   ]
  },
  {
   "cell_type": "code",
   "execution_count": 262,
   "metadata": {},
   "outputs": [
    {
     "name": "stdout",
     "output_type": "stream",
     "text": [
      "X_train shape: (15292, 1, 1, 145)\n",
      "X_val shape: (1700, 1, 1, 145)\n",
      "y_train shape: (15292,)\n",
      "y_val shape: (1700,)\n",
      "X_test shape: (12197, 1, 1, 145)\n",
      "y_test shape: (12197,)\n",
      "After standardization:\n",
      "X_train shape: (15292, 1, 1, 145)\n",
      "X_val shape: (1700, 1, 1, 145)\n",
      "X_test shape: (12197, 1, 1, 145)\n"
     ]
    }
   ],
   "source": [
    "# import numpy as np\n",
    "# import torch\n",
    "# from torch.utils.data import TensorDataset, DataLoader\n",
    "# from sklearn.model_selection import train_test_split\n",
    "# from sklearn.preprocessing import StandardScaler\n",
    "\n",
    "# Split the augmented training data into training and validation sets\n",
    "X_train, X_val, y_train, y_val = train_test_split(\n",
    "    augmented_hsi_training_samples, augmented_training_labels, test_size=0.1, random_state=42, stratify=augmented_training_labels\n",
    ")\n",
    "\n",
    "print('X_train shape:', X_train.shape)\n",
    "print('X_val shape:', X_val.shape)\n",
    "print('y_train shape:', y_train.shape)\n",
    "print('y_val shape:', y_val.shape)\n",
    "\n",
    "print('X_test shape:', X_test.shape)\n",
    "print('y_test shape:', y_test.shape)\n",
    "\n",
    "# Store the data shapes for model\n",
    "original_train_shape = X_train.shape  # (samples, height, width, channels)\n",
    "original_val_shape = X_val.shape\n",
    "original_test_shape = X_test.shape\n",
    "\n",
    "# Reshape for standardization\n",
    "X_train_reshaped = X_train.reshape(-1, original_train_shape[1]*original_train_shape[2]*original_train_shape[3])\n",
    "X_val_reshaped = X_val.reshape(-1, original_val_shape[1]*original_val_shape[2]*original_val_shape[3])\n",
    "X_test_reshaped = X_test.reshape(-1, original_test_shape[1]*original_test_shape[2]*original_test_shape[3])\n",
    "\n",
    "# Standardize\n",
    "scaler = StandardScaler()\n",
    "X_train_standardized = scaler.fit_transform(X_train_reshaped)\n",
    "X_val_standardized = scaler.transform(X_val_reshaped)\n",
    "X_test_standardized = scaler.transform(X_test_reshaped)\n",
    "\n",
    "# Reshape back to original 4D shape\n",
    "X_train = X_train_standardized.reshape(original_train_shape)\n",
    "X_val = X_val_standardized.reshape(original_val_shape)\n",
    "X_test = X_test_standardized.reshape(original_test_shape)\n",
    "\n",
    "# Check the reshaped arrays\n",
    "print(\"After standardization:\")\n",
    "print(\"X_train shape:\", X_train.shape)\n",
    "print(\"X_val shape:\", X_val.shape)\n",
    "print(\"X_test shape:\", X_test.shape)\n",
    "\n",
    "# Convert the split datasets to tensor datasets\n",
    "train_dataset = TensorDataset(torch.tensor(X_train.astype(np.float32)), torch.tensor(y_train).long())\n",
    "val_dataset = TensorDataset(torch.tensor(X_val.astype(np.float32)), torch.tensor(y_val).long())\n",
    "test_dataset = TensorDataset(torch.tensor(X_test.astype(np.float32)), torch.tensor(y_test).long())\n",
    "\n",
    "# Create DataLoader instances for training, validation, and testing\n",
    "batch_size = 32\n",
    "train_loader = DataLoader(train_dataset, batch_size=batch_size, shuffle=True, num_workers=2)\n",
    "val_loader = DataLoader(val_dataset, batch_size=batch_size, shuffle=False, num_workers=2)\n",
    "test_loader = DataLoader(test_dataset, batch_size=batch_size, shuffle=False, num_workers=2)"
   ]
  },
  {
   "cell_type": "markdown",
   "metadata": {
    "id": "9YKbJ8f9kYbF"
   },
   "source": [
    "# 5.0 Training Model Memeory and Time calcualtion"
   ]
  },
  {
   "cell_type": "markdown",
   "metadata": {
    "id": "S_ur8OhPMbsB"
   },
   "source": []
  },
  {
   "cell_type": "code",
   "execution_count": 263,
   "metadata": {
    "colab": {
     "base_uri": "https://localhost:8080/",
     "height": 356
    },
    "executionInfo": {
     "elapsed": 279,
     "status": "error",
     "timestamp": 1716846591117,
     "user": {
      "displayName": "Judy12",
      "userId": "10185014653289266631"
     },
     "user_tz": -600
    },
    "id": "aXbOriff1G80",
    "outputId": "d5cf3b8e-1a1c-4c6d-e540-b6befe33eeea"
   },
   "outputs": [
    {
     "name": "stdout",
     "output_type": "stream",
     "text": [
      "Initial Memory Allocated: 298.286592 MB\n",
      "Epoch [1/100], Train Loss: 0.0757, Val Loss: 0.0669\n",
      "Validation Loss Decreased(inf--->0.066889) \t Saving The Model\n",
      "Epoch [2/100], Train Loss: 0.0603, Val Loss: 0.0539\n",
      "Validation Loss Decreased(0.066889--->0.053876) \t Saving The Model\n",
      "Epoch [3/100], Train Loss: 0.0502, Val Loss: 0.0453\n",
      "Validation Loss Decreased(0.053876--->0.045324) \t Saving The Model\n",
      "Epoch [4/100], Train Loss: 0.0429, Val Loss: 0.0388\n",
      "Validation Loss Decreased(0.045324--->0.038779) \t Saving The Model\n",
      "Epoch [5/100], Train Loss: 0.0374, Val Loss: 0.0339\n",
      "Validation Loss Decreased(0.038779--->0.033885) \t Saving The Model\n",
      "Epoch [6/100], Train Loss: 0.0329, Val Loss: 0.0298\n",
      "Validation Loss Decreased(0.033885--->0.029785) \t Saving The Model\n",
      "Epoch [7/100], Train Loss: 0.0293, Val Loss: 0.0263\n",
      "Validation Loss Decreased(0.029785--->0.026324) \t Saving The Model\n",
      "Epoch [8/100], Train Loss: 0.0263, Val Loss: 0.0234\n",
      "Validation Loss Decreased(0.026324--->0.023446) \t Saving The Model\n",
      "Epoch [9/100], Train Loss: 0.0235, Val Loss: 0.0212\n",
      "Validation Loss Decreased(0.023446--->0.021169) \t Saving The Model\n",
      "Epoch [10/100], Train Loss: 0.0213, Val Loss: 0.0191\n",
      "Validation Loss Decreased(0.021169--->0.019064) \t Saving The Model\n",
      "Epoch [11/100], Train Loss: 0.0193, Val Loss: 0.0175\n",
      "Validation Loss Decreased(0.019064--->0.017459) \t Saving The Model\n",
      "Epoch [12/100], Train Loss: 0.0176, Val Loss: 0.0157\n",
      "Validation Loss Decreased(0.017459--->0.015662) \t Saving The Model\n",
      "Epoch [13/100], Train Loss: 0.0159, Val Loss: 0.0141\n",
      "Validation Loss Decreased(0.015662--->0.014078) \t Saving The Model\n",
      "Epoch [14/100], Train Loss: 0.0145, Val Loss: 0.0130\n",
      "Validation Loss Decreased(0.014078--->0.013042) \t Saving The Model\n",
      "Epoch [15/100], Train Loss: 0.0133, Val Loss: 0.0118\n",
      "Validation Loss Decreased(0.013042--->0.011757) \t Saving The Model\n",
      "Epoch [16/100], Train Loss: 0.0121, Val Loss: 0.0108\n",
      "Validation Loss Decreased(0.011757--->0.010797) \t Saving The Model\n",
      "Epoch [17/100], Train Loss: 0.0110, Val Loss: 0.0098\n",
      "Validation Loss Decreased(0.010797--->0.009789) \t Saving The Model\n",
      "Epoch [18/100], Train Loss: 0.0100, Val Loss: 0.0088\n",
      "Validation Loss Decreased(0.009789--->0.008820) \t Saving The Model\n",
      "Epoch [19/100], Train Loss: 0.0093, Val Loss: 0.0084\n",
      "Validation Loss Decreased(0.008820--->0.008374) \t Saving The Model\n",
      "Epoch [20/100], Train Loss: 0.0085, Val Loss: 0.0075\n",
      "Validation Loss Decreased(0.008374--->0.007534) \t Saving The Model\n",
      "Epoch [21/100], Train Loss: 0.0078, Val Loss: 0.0069\n",
      "Validation Loss Decreased(0.007534--->0.006922) \t Saving The Model\n",
      "Epoch [22/100], Train Loss: 0.0071, Val Loss: 0.0064\n",
      "Validation Loss Decreased(0.006922--->0.006371) \t Saving The Model\n",
      "Epoch [23/100], Train Loss: 0.0065, Val Loss: 0.0058\n",
      "Validation Loss Decreased(0.006371--->0.005801) \t Saving The Model\n",
      "Epoch [24/100], Train Loss: 0.0061, Val Loss: 0.0052\n",
      "Validation Loss Decreased(0.005801--->0.005225) \t Saving The Model\n",
      "Epoch [25/100], Train Loss: 0.0056, Val Loss: 0.0051\n",
      "Validation Loss Decreased(0.005225--->0.005056) \t Saving The Model\n",
      "Epoch [26/100], Train Loss: 0.0051, Val Loss: 0.0045\n",
      "Validation Loss Decreased(0.005056--->0.004538) \t Saving The Model\n",
      "Epoch [27/100], Train Loss: 0.0048, Val Loss: 0.0042\n",
      "Validation Loss Decreased(0.004538--->0.004166) \t Saving The Model\n",
      "Epoch [28/100], Train Loss: 0.0044, Val Loss: 0.0038\n",
      "Validation Loss Decreased(0.004166--->0.003805) \t Saving The Model\n",
      "Epoch [29/100], Train Loss: 0.0041, Val Loss: 0.0034\n",
      "Validation Loss Decreased(0.003805--->0.003441) \t Saving The Model\n",
      "Epoch [30/100], Train Loss: 0.0037, Val Loss: 0.0032\n",
      "Validation Loss Decreased(0.003441--->0.003226) \t Saving The Model\n",
      "Epoch [31/100], Train Loss: 0.0035, Val Loss: 0.0031\n",
      "Validation Loss Decreased(0.003226--->0.003063) \t Saving The Model\n",
      "Epoch [32/100], Train Loss: 0.0032, Val Loss: 0.0027\n",
      "Validation Loss Decreased(0.003063--->0.002727) \t Saving The Model\n",
      "Epoch [33/100], Train Loss: 0.0030, Val Loss: 0.0025\n",
      "Validation Loss Decreased(0.002727--->0.002492) \t Saving The Model\n",
      "Epoch [34/100], Train Loss: 0.0027, Val Loss: 0.0023\n",
      "Validation Loss Decreased(0.002492--->0.002298) \t Saving The Model\n",
      "Epoch [35/100], Train Loss: 0.0026, Val Loss: 0.0021\n",
      "Validation Loss Decreased(0.002298--->0.002103) \t Saving The Model\n",
      "Epoch [36/100], Train Loss: 0.0024, Val Loss: 0.0019\n",
      "Validation Loss Decreased(0.002103--->0.001879) \t Saving The Model\n",
      "Epoch [37/100], Train Loss: 0.0022, Val Loss: 0.0018\n",
      "Validation Loss Decreased(0.001879--->0.001802) \t Saving The Model\n",
      "Epoch [38/100], Train Loss: 0.0020, Val Loss: 0.0017\n",
      "Validation Loss Decreased(0.001802--->0.001711) \t Saving The Model\n",
      "Epoch [39/100], Train Loss: 0.0019, Val Loss: 0.0015\n",
      "Validation Loss Decreased(0.001711--->0.001542) \t Saving The Model\n",
      "Epoch [40/100], Train Loss: 0.0017, Val Loss: 0.0015\n",
      "Validation Loss Decreased(0.001542--->0.001467) \t Saving The Model\n",
      "Epoch [41/100], Train Loss: 0.0016, Val Loss: 0.0014\n",
      "Validation Loss Decreased(0.001467--->0.001403) \t Saving The Model\n",
      "Epoch [42/100], Train Loss: 0.0014, Val Loss: 0.0012\n",
      "Validation Loss Decreased(0.001403--->0.001191) \t Saving The Model\n",
      "Epoch [43/100], Train Loss: 0.0014, Val Loss: 0.0011\n",
      "Validation Loss Decreased(0.001191--->0.001063) \t Saving The Model\n",
      "Epoch [44/100], Train Loss: 0.0012, Val Loss: 0.0010\n",
      "Validation Loss Decreased(0.001063--->0.000990) \t Saving The Model\n",
      "Epoch [45/100], Train Loss: 0.0012, Val Loss: 0.0008\n",
      "Validation Loss Decreased(0.000990--->0.000843) \t Saving The Model\n",
      "Epoch [46/100], Train Loss: 0.0011, Val Loss: 0.0008\n",
      "Validation Loss Decreased(0.000843--->0.000805) \t Saving The Model\n",
      "Epoch [47/100], Train Loss: 0.0010, Val Loss: 0.0008\n",
      "Validation Loss Decreased(0.000805--->0.000802) \t Saving The Model\n",
      "Epoch [48/100], Train Loss: 0.0009, Val Loss: 0.0006\n",
      "Validation Loss Decreased(0.000802--->0.000639) \t Saving The Model\n",
      "Epoch [49/100], Train Loss: 0.0009, Val Loss: 0.0006\n",
      "Validation Loss Decreased(0.000639--->0.000594) \t Saving The Model\n",
      "Epoch [50/100], Train Loss: 0.0008, Val Loss: 0.0006\n",
      "Epoch [51/100], Train Loss: 0.0007, Val Loss: 0.0005\n",
      "Validation Loss Decreased(0.000594--->0.000531) \t Saving The Model\n",
      "Epoch [52/100], Train Loss: 0.0007, Val Loss: 0.0005\n",
      "Validation Loss Decreased(0.000531--->0.000463) \t Saving The Model\n",
      "Epoch [53/100], Train Loss: 0.0006, Val Loss: 0.0004\n",
      "Validation Loss Decreased(0.000463--->0.000403) \t Saving The Model\n",
      "Epoch [54/100], Train Loss: 0.0006, Val Loss: 0.0004\n",
      "Validation Loss Decreased(0.000403--->0.000395) \t Saving The Model\n",
      "Epoch [55/100], Train Loss: 0.0005, Val Loss: 0.0003\n",
      "Validation Loss Decreased(0.000395--->0.000330) \t Saving The Model\n",
      "Epoch [56/100], Train Loss: 0.0005, Val Loss: 0.0003\n",
      "Validation Loss Decreased(0.000330--->0.000319) \t Saving The Model\n",
      "Epoch [57/100], Train Loss: 0.0005, Val Loss: 0.0003\n",
      "Validation Loss Decreased(0.000319--->0.000278) \t Saving The Model\n",
      "Epoch [58/100], Train Loss: 0.0005, Val Loss: 0.0002\n",
      "Validation Loss Decreased(0.000278--->0.000232) \t Saving The Model\n",
      "Epoch [59/100], Train Loss: 0.0004, Val Loss: 0.0002\n",
      "Epoch [60/100], Train Loss: 0.0004, Val Loss: 0.0003\n",
      "Epoch [61/100], Train Loss: 0.0004, Val Loss: 0.0002\n",
      "Validation Loss Decreased(0.000232--->0.000193) \t Saving The Model\n",
      "Epoch [62/100], Train Loss: 0.0003, Val Loss: 0.0003\n",
      "Epoch [63/100], Train Loss: 0.0003, Val Loss: 0.0002\n",
      "Validation Loss Decreased(0.000193--->0.000158) \t Saving The Model\n",
      "Epoch [64/100], Train Loss: 0.0003, Val Loss: 0.0002\n",
      "Epoch [65/100], Train Loss: 0.0003, Val Loss: 0.0001\n",
      "Validation Loss Decreased(0.000158--->0.000135) \t Saving The Model\n",
      "Epoch [66/100], Train Loss: 0.0003, Val Loss: 0.0001\n",
      "Epoch [67/100], Train Loss: 0.0002, Val Loss: 0.0001\n",
      "Validation Loss Decreased(0.000135--->0.000120) \t Saving The Model\n",
      "Epoch [68/100], Train Loss: 0.0002, Val Loss: 0.0002\n",
      "Epoch [69/100], Train Loss: 0.0002, Val Loss: 0.0001\n",
      "Epoch [70/100], Train Loss: 0.0002, Val Loss: 0.0001\n",
      "Validation Loss Decreased(0.000120--->0.000086) \t Saving The Model\n",
      "Epoch [71/100], Train Loss: 0.0002, Val Loss: 0.0001\n",
      "Epoch [72/100], Train Loss: 0.0002, Val Loss: 0.0001\n",
      "Validation Loss Decreased(0.000086--->0.000078) \t Saving The Model\n",
      "Epoch [73/100], Train Loss: 0.0002, Val Loss: 0.0001\n",
      "Validation Loss Decreased(0.000078--->0.000069) \t Saving The Model\n",
      "Epoch [74/100], Train Loss: 0.0001, Val Loss: 0.0001\n"
     ]
    },
    {
     "name": "stdout",
     "output_type": "stream",
     "text": [
      "Epoch [75/100], Train Loss: 0.0001, Val Loss: 0.0001\n",
      "Validation Loss Decreased(0.000069--->0.000065) \t Saving The Model\n",
      "Epoch [76/100], Train Loss: 0.0002, Val Loss: 0.0001\n",
      "Validation Loss Decreased(0.000065--->0.000055) \t Saving The Model\n",
      "Epoch [77/100], Train Loss: 0.0001, Val Loss: 0.0001\n",
      "Validation Loss Decreased(0.000055--->0.000053) \t Saving The Model\n",
      "Epoch [78/100], Train Loss: 0.0001, Val Loss: 0.0001\n",
      "Epoch [79/100], Train Loss: 0.0001, Val Loss: 0.0000\n",
      "Validation Loss Decreased(0.000053--->0.000047) \t Saving The Model\n",
      "Epoch [80/100], Train Loss: 0.0001, Val Loss: 0.0000\n",
      "Validation Loss Decreased(0.000047--->0.000045) \t Saving The Model\n",
      "Epoch [81/100], Train Loss: 0.0001, Val Loss: 0.0000\n",
      "Validation Loss Decreased(0.000045--->0.000037) \t Saving The Model\n",
      "Epoch [82/100], Train Loss: 0.0001, Val Loss: 0.0000\n",
      "Epoch [83/100], Train Loss: 0.0001, Val Loss: 0.0000\n",
      "Validation Loss Decreased(0.000037--->0.000032) \t Saving The Model\n",
      "Epoch [84/100], Train Loss: 0.0001, Val Loss: 0.0001\n",
      "Epoch [85/100], Train Loss: 0.0001, Val Loss: 0.0000\n",
      "Epoch [86/100], Train Loss: 0.0001, Val Loss: 0.0000\n",
      "Validation Loss Decreased(0.000032--->0.000028) \t Saving The Model\n",
      "Epoch [87/100], Train Loss: 0.0001, Val Loss: 0.0000\n",
      "Validation Loss Decreased(0.000028--->0.000026) \t Saving The Model\n",
      "Epoch [88/100], Train Loss: 0.0001, Val Loss: 0.0000\n",
      "Validation Loss Decreased(0.000026--->0.000023) \t Saving The Model\n",
      "Epoch [89/100], Train Loss: 0.0001, Val Loss: 0.0000\n",
      "Validation Loss Decreased(0.000023--->0.000021) \t Saving The Model\n",
      "Epoch [90/100], Train Loss: 0.0001, Val Loss: 0.0000\n",
      "Epoch [91/100], Train Loss: 0.0001, Val Loss: 0.0000\n",
      "Validation Loss Decreased(0.000021--->0.000021) \t Saving The Model\n",
      "Epoch [92/100], Train Loss: 0.0001, Val Loss: 0.0000\n",
      "Validation Loss Decreased(0.000021--->0.000020) \t Saving The Model\n",
      "Epoch [93/100], Train Loss: 0.0001, Val Loss: 0.0000\n",
      "Validation Loss Decreased(0.000020--->0.000019) \t Saving The Model\n",
      "Epoch [94/100], Train Loss: 0.0001, Val Loss: 0.0000\n",
      "Validation Loss Decreased(0.000019--->0.000018) \t Saving The Model\n",
      "Epoch [95/100], Train Loss: 0.0000, Val Loss: 0.0000\n",
      "Validation Loss Decreased(0.000018--->0.000017) \t Saving The Model\n",
      "Epoch [96/100], Train Loss: 0.0001, Val Loss: 0.0000\n",
      "Validation Loss Decreased(0.000017--->0.000017) \t Saving The Model\n",
      "Epoch [97/100], Train Loss: 0.0001, Val Loss: 0.0000\n",
      "Epoch [98/100], Train Loss: 0.0001, Val Loss: 0.0000\n",
      "Epoch [99/100], Train Loss: 0.0000, Val Loss: 0.0000\n",
      "Validation Loss Decreased(0.000017--->0.000013) \t Saving The Model\n",
      "Epoch [100/100], Train Loss: 0.0000, Val Loss: 0.0000\n",
      "Finished training. Total training time: 321.00 seconds\n"
     ]
    }
   ],
   "source": [
    "# Before the training loop, to record the initial memory usage (GPU)\n",
    "if torch.cuda.is_available():\n",
    "    torch.cuda.reset_peak_memory_stats()  # Reset peak memory stats at the start\n",
    "    initial_memory = torch.cuda.memory_allocated()\n",
    "    print(f\"Initial Memory Allocated: {initial_memory / 1e6} MB\")\n",
    "    \n",
    "# 1.0 Training Model in GPU for HSI loader\n",
    "\n",
    "device = torch.device(\"cuda\" if torch.cuda.is_available() else \"cpu\")\n",
    "\n",
    "#model = HSIClassificationMambaModel(\n",
    "#    spatial_dim=7, num_bands=145, hidden_dim=256, output_dim=128, delta_param_init=0.01, num_classes=15\n",
    "#)\n",
    "\n",
    "model = HSIClassificationMambaModel(\n",
    "    spatial_dim=m, num_bands=145, hidden_dim=512, output_dim=256, delta_param_init=0.01, num_classes=15\n",
    ")\n",
    "model = model.to(device)\n",
    "criterion = nn.CrossEntropyLoss()\n",
    "optimizer = optim.Adam(model.parameters(), lr=0.000001)\n",
    "\n",
    "epochs = 100\n",
    "best_val_loss = float('inf')\n",
    "best_model_wts = copy.deepcopy(model.state_dict())\n",
    "patience = 30\n",
    "\n",
    "start_time = time.time()  # Step 2: Record the start time\n",
    "\n",
    "for epoch in range(epochs):\n",
    "    model.train()\n",
    "    running_train_loss = 0.0\n",
    "    for inputs, labels in train_loader:\n",
    "        inputs, labels = inputs.to(device), labels.to(device) # Move the data into device\n",
    "        optimizer.zero_grad()\n",
    "        labels -= 1\n",
    "        outputs = model(inputs)\n",
    "        loss = criterion(outputs, labels)\n",
    "\n",
    "        loss.backward()\n",
    "        optimizer.step()\n",
    "\n",
    "        running_train_loss += loss.item()\n",
    "\n",
    "    epoch_train_loss = running_train_loss / len(train_loader.dataset)\n",
    "\n",
    "    model.eval()\n",
    "    val_running_loss = 0.0\n",
    "    with torch.no_grad():\n",
    "        for inputs, labels in val_loader:\n",
    "            inputs, labels = inputs.to(device), labels.to(device) # Move the data into device\n",
    "            outputs = model(inputs)\n",
    "            labels -= 1\n",
    "            loss = criterion(outputs, labels)\n",
    "            val_running_loss += loss.item()\n",
    "\n",
    "        epoch_val_loss = val_running_loss / len(val_loader.dataset)\n",
    "\n",
    "    print(f'Epoch [{epoch+1}/{epochs}], Train Loss: {epoch_train_loss:.4f}, Val Loss: {epoch_val_loss:.4f}')\n",
    "\n",
    "    if epoch_val_loss < best_val_loss:\n",
    "        print(f'Validation Loss Decreased({best_val_loss:.6f}--->{epoch_val_loss:.6f}) \\t Saving The Model')\n",
    "        best_val_loss = epoch_val_loss\n",
    "        best_model_wts = copy.deepcopy(model.state_dict())\n",
    "        no_improve_epochs = 0\n",
    "    else:\n",
    "        no_improve_epochs += 1\n",
    "\n",
    "    if no_improve_epochs > patience:\n",
    "        print('Early stopping!')\n",
    "        model.load_state_dict(best_model_wts)\n",
    "        break\n",
    "\n",
    "end_time = time.time()  # Step 3: Record the end time\n",
    "total_time = end_time - start_time  # Step 4: Calculate total training time\n",
    "\n",
    "print(f'Finished training. Total training time: {total_time:.2f} seconds')  # Print the total training time"
   ]
  },
  {
   "cell_type": "code",
   "execution_count": 264,
   "metadata": {
    "id": "vLfbW7zl9PVD"
   },
   "outputs": [
    {
     "name": "stdout",
     "output_type": "stream",
     "text": [
      "Peak Memory Allocated During Training: 319.532032 MB\n",
      "Final Memory Allocated: 297.859072 MB\n",
      "Memory Used During Training: -0.42752 MB\n"
     ]
    }
   ],
   "source": [
    "# After the training loop, to record the final memory usage (GPU)\n",
    "if torch.cuda.is_available():\n",
    "    # Calculate the peak memory usage during the training\n",
    "    peak_memory = torch.cuda.max_memory_allocated()\n",
    "    # Calculate the final memory usage after training\n",
    "    final_memory = torch.cuda.memory_allocated()\n",
    "\n",
    " # Calculate the memory used during the training\n",
    "    memory_used = final_memory - initial_memory\n",
    "\n",
    "    # Reset memory stats for future measurements\n",
    "    torch.cuda.reset_peak_memory_stats()\n",
    "\n",
    "    print(f\"Peak Memory Allocated During Training: {peak_memory / 1e6} MB\")\n",
    "    print(f\"Final Memory Allocated: {final_memory / 1e6} MB\")\n",
    "    # Adding the new line here to show memory used\n",
    "    print(f\"Memory Used During Training: {memory_used / 1e6} MB\")"
   ]
  },
  {
   "cell_type": "markdown",
   "metadata": {
    "id": "U-JV3z-rolSh"
   },
   "source": [
    "### Save the modle"
   ]
  },
  {
   "cell_type": "code",
   "execution_count": 265,
   "metadata": {
    "id": "3pp-QYHqolSh"
   },
   "outputs": [],
   "source": [
    "# Assuming 'model' is your instance of HSIClassificationModel or any other model\n",
    "replacement_value = m\n",
    "\n",
    "# Dynamically construct the file name\n",
    "model_save_path = 'Early_fusionp$num$_UH2013_model_state_dict.pth'\n",
    "model_save_path = model_save_path.replace('$num$', str(replacement_value))\n",
    "\n",
    "# Save the model state dictionary to the updated path\n",
    "torch.save(model.state_dict(), model_save_path)"
   ]
  },
  {
   "cell_type": "markdown",
   "metadata": {
    "id": "dpZ1hNquolSi"
   },
   "source": [
    "### Claculte th test time"
   ]
  },
  {
   "cell_type": "code",
   "execution_count": 266,
   "metadata": {
    "id": "KKUHZHJpXvaO"
   },
   "outputs": [
    {
     "name": "stdout",
     "output_type": "stream",
     "text": [
      "Model saved to Early_fusionp1_UH2013_model_state_dict.pth\n",
      "Overall Accuracy (OA): 0.9560\n",
      "Average Accuracy (AA): 0.9570\n",
      "Kappa Coefficient: 0.9522\n",
      "Test time: 0.95 seconds\n",
      "Class 1 Accuracy: 0.9734\n",
      "Class 2 Accuracy: 0.9803\n",
      "Class 3 Accuracy: 0.9980\n",
      "Class 4 Accuracy: 0.9896\n",
      "Class 5 Accuracy: 0.9877\n",
      "Class 6 Accuracy: 0.9930\n",
      "Class 7 Accuracy: 0.9515\n",
      "Class 8 Accuracy: 0.9554\n",
      "Class 9 Accuracy: 0.9046\n",
      "Class 10 Accuracy: 0.9624\n",
      "Class 11 Accuracy: 0.9099\n",
      "Class 12 Accuracy: 0.9260\n",
      "Class 13 Accuracy: 0.8316\n",
      "Class 14 Accuracy: 0.9960\n",
      "Class 15 Accuracy: 0.9958\n"
     ]
    }
   ],
   "source": [
    "# Save the model\n",
    "#model_save_path =  'Early_fusionp$num$_trento_model_state_dict.pth'\n",
    "torch.save(model.state_dict(), model_save_path)\n",
    "#replacement_value = m  # Replace \"m\" with this number dynamically\n",
    "\n",
    "# Replace \"$m$\" with the integer value\n",
    "#model_save_path = model_save_path.replace('$num$', str(replacement_value))\n",
    "\n",
    "\n",
    "print(f'Model saved to {model_save_path}')\n",
    "\n",
    "# Load the model (make sure to initialize the model architecture first)\n",
    "model.load_state_dict(torch.load(model_save_path,weights_only=False))\n",
    "model.to(device)\n",
    "\n",
    "# Ensure the model is in evaluation mode\n",
    "model.eval()\n",
    "\n",
    "# Store predictions and actual labels\n",
    "predictions = []\n",
    "actual_labels = []\n",
    "\n",
    "start_time = time.time()  # Start timing\n",
    "\n",
    "with torch.no_grad():\n",
    "    for hsi_patches, labels in test_loader:\n",
    "        # Move data to the appropriate device\n",
    "        hsi_patches = hsi_patches.to(device)\n",
    "        labels -= 1  # Adjust labels if necessary\n",
    "\n",
    "        # Forward pass\n",
    "        outputs = model(hsi_patches)\n",
    "\n",
    "        # Get predictions\n",
    "        _, predicted = torch.max(outputs, 1)\n",
    "        predictions.extend(predicted.cpu().numpy())\n",
    "        actual_labels.extend(labels.cpu().numpy())\n",
    "\n",
    "end_time = time.time()  # End timing\n",
    "test_time = end_time - start_time  # Calculate the test time\n",
    "\n",
    "# Optionally, calculate accuracy or other metrics using predictions and actual_labels\n",
    "\n",
    "# Convert lists to NumPy arrays for easier manipulation\n",
    "predictions_array = np.array(predictions)\n",
    "actual_labels_array = np.array(actual_labels)\n",
    "\n",
    "# Overall Accuracy\n",
    "oa = accuracy_score(actual_labels_array, predictions_array)\n",
    "\n",
    "# Confusion Matrix\n",
    "cm = confusion_matrix(actual_labels_array, predictions_array)\n",
    "# Calculate per-class accuracy from the confusion matrix\n",
    "class_accuracy = cm.diagonal() / cm.sum(axis=1)\n",
    "# Average Accuracy\n",
    "aa = np.mean(class_accuracy)\n",
    "\n",
    "# Kappa Coefficient\n",
    "kappa = cohen_kappa_score(actual_labels_array, predictions_array)\n",
    "\n",
    "print(f'Overall Accuracy (OA): {oa:.4f}')\n",
    "print(f'Average Accuracy (AA): {aa:.4f}')\n",
    "print(f'Kappa Coefficient: {kappa:.4f}')\n",
    "print(f'Test time: {test_time:.2f} seconds')  # Print the test time\n",
    "\n",
    "for i, acc in enumerate(class_accuracy): print(f'Class {i+1} Accuracy: {acc:.4f}')"
   ]
  },
  {
   "cell_type": "markdown",
   "metadata": {},
   "source": [
    "# Updated Reversed Data stream in the code Test "
   ]
  },
  {
   "cell_type": "code",
   "execution_count": 241,
   "metadata": {},
   "outputs": [],
   "source": [
    "# p1( HSI+Lidar) \n",
    "Finished training. Total training time: 321.00 seconds\n",
    "    Model saved to Early_fusionp1_UH2013_model_state_dict.pth\n",
    "Overall Accuracy (OA): 0.9560\n",
    "Average Accuracy (AA): 0.9570\n",
    "Kappa Coefficient: 0.9522\n",
    "Test time: 0.95 seconds\n",
    "Class 1 Accuracy: 0.9734\n",
    "Class 2 Accuracy: 0.9803\n",
    "Class 3 Accuracy: 0.9980\n",
    "Class 4 Accuracy: 0.9896\n",
    "Class 5 Accuracy: 0.9877\n",
    "Class 6 Accuracy: 0.9930\n",
    "Class 7 Accuracy: 0.9515\n",
    "Class 8 Accuracy: 0.9554\n",
    "Class 9 Accuracy: 0.9046\n",
    "Class 10 Accuracy: 0.9624\n",
    "Class 11 Accuracy: 0.9099\n",
    "Class 12 Accuracy: 0.9260\n",
    "Class 13 Accuracy: 0.8316\n",
    "Class 14 Accuracy: 0.9960\n",
    "Class 15 Accuracy: 0.9958\n"
   ]
  },
  {
   "cell_type": "code",
   "execution_count": null,
   "metadata": {},
   "outputs": [],
   "source": [
    "# p3( HSI+Lidar) \n",
    "Finished training. Total training time: 305.58 seconds\n",
    "Model saved to Early_fusionp3_UH2013_model_state_dict.pth\n",
    "Overall Accuracy (OA): 0.9954\n",
    "Average Accuracy (AA): 0.9960\n",
    "Kappa Coefficient: 0.9950\n",
    "Test time: 1.13 seconds\n",
    "Class 1 Accuracy: 0.9991\n",
    "Class 2 Accuracy: 0.9953\n",
    "Class 3 Accuracy: 1.0000\n",
    "Class 4 Accuracy: 0.9981\n",
    "Class 5 Accuracy: 1.0000\n",
    "Class 6 Accuracy: 1.0000\n",
    "Class 7 Accuracy: 0.9925\n",
    "Class 8 Accuracy: 0.9981\n",
    "Class 9 Accuracy: 0.9792\n",
    "Class 10 Accuracy: 0.9971\n",
    "Class 11 Accuracy: 0.9943\n",
    "Class 12 Accuracy: 0.9962\n",
    "Class 13 Accuracy: 0.9895\n",
    "Class 14 Accuracy: 1.0000\n",
    "Class 15 Accuracy: 1.0000"
   ]
  },
  {
   "cell_type": "code",
   "execution_count": null,
   "metadata": {},
   "outputs": [],
   "source": [
    "# p5( HSI+Lidar) \n",
    "Finished training. Total training time: 338.37 seconds\n",
    "Model saved to Early_fusionp5_UH2013_model_state_dict.pth\n",
    "Overall Accuracy (OA): 0.9986\n",
    "Average Accuracy (AA): 0.9989\n",
    "Kappa Coefficient: 0.9985\n",
    "Test time: 1.27 seconds\n",
    "Class 1 Accuracy: 1.0000\n",
    "Class 2 Accuracy: 0.9953\n",
    "Class 3 Accuracy: 1.0000\n",
    "Class 4 Accuracy: 1.0000\n",
    "Class 5 Accuracy: 1.0000\n",
    "Class 6 Accuracy: 1.0000\n",
    "Class 7 Accuracy: 1.0000\n",
    "Class 8 Accuracy: 1.0000\n",
    "Class 9 Accuracy: 0.9906\n",
    "Class 10 Accuracy: 1.0000\n",
    "Class 11 Accuracy: 0.9981\n",
    "Class 12 Accuracy: 1.0000\n",
    "Class 13 Accuracy: 1.0000\n",
    "Class 14 Accuracy: 1.0000\n",
    "Class 15 Accuracy: 1.0000"
   ]
  },
  {
   "cell_type": "code",
   "execution_count": null,
   "metadata": {},
   "outputs": [],
   "source": [
    "# p7( HSI+Lidar) \n",
    "Finished training. Total training time: 414.73 seconds\n",
    "    Model saved to Early_fusionp7_UH2013_model_state_dict.pth\n",
    "Overall Accuracy (OA): 0.9993\n",
    "Average Accuracy (AA): 0.9995\n",
    "Kappa Coefficient: 0.9993\n",
    "Test time: 1.67 seconds\n",
    "Class 1 Accuracy: 1.0000\n",
    "Class 2 Accuracy: 1.0000\n",
    "Class 3 Accuracy: 1.0000\n",
    "Class 4 Accuracy: 1.0000\n",
    "Class 5 Accuracy: 0.9981\n",
    "Class 6 Accuracy: 1.0000\n",
    "Class 7 Accuracy: 1.0000\n",
    "Class 8 Accuracy: 1.0000\n",
    "Class 9 Accuracy: 0.9943\n",
    "Class 10 Accuracy: 1.0000\n",
    "Class 11 Accuracy: 1.0000\n",
    "Class 12 Accuracy: 1.0000\n",
    "Class 13 Accuracy: 1.0000\n",
    "Class 14 Accuracy: 1.0000\n",
    "Class 15 Accuracy: 1.0000"
   ]
  },
  {
   "cell_type": "code",
   "execution_count": null,
   "metadata": {},
   "outputs": [],
   "source": [
    "# p9( HSI+Lidar) \n",
    "Finished training. Total training time: 532.42 seconds\n",
    "    Model saved to Early_fusionp9_UH2013_model_state_dict.pth\n",
    "Overall Accuracy (OA): 0.9989\n",
    "Average Accuracy (AA): 0.9992\n",
    "Kappa Coefficient: 0.9988\n",
    "Test time: 2.10 seconds\n",
    "Class 1 Accuracy: 0.9924\n",
    "Class 2 Accuracy: 1.0000\n",
    "Class 3 Accuracy: 1.0000\n",
    "Class 4 Accuracy: 0.9991\n",
    "Class 5 Accuracy: 1.0000\n",
    "Class 6 Accuracy: 1.0000\n",
    "Class 7 Accuracy: 1.0000\n",
    "Class 8 Accuracy: 1.0000\n",
    "Class 9 Accuracy: 0.9962\n",
    "Class 10 Accuracy: 1.0000\n",
    "Class 11 Accuracy: 1.0000\n",
    "Class 12 Accuracy: 1.0000\n",
    "Class 13 Accuracy: 1.0000\n",
    "Class 14 Accuracy: 1.0000\n",
    "Class 15 Accuracy: 1.0000"
   ]
  },
  {
   "cell_type": "code",
   "execution_count": null,
   "metadata": {},
   "outputs": [],
   "source": [
    "# p11( HSI+Lidar) \n",
    "Finished training. Total training time: 685.01 seconds\n",
    "    Model saved to Early_fusionp11_UH2013_model_state_dict.pth\n",
    "Overall Accuracy (OA): 0.9971\n",
    "Average Accuracy (AA): 0.9978\n",
    "Kappa Coefficient: 0.9969\n",
    "Test time: 2.58 seconds\n",
    "Class 1 Accuracy: 0.9905\n",
    "Class 2 Accuracy: 1.0000\n",
    "Class 3 Accuracy: 1.0000\n",
    "Class 4 Accuracy: 1.0000\n",
    "Class 5 Accuracy: 1.0000\n",
    "Class 6 Accuracy: 1.0000\n",
    "Class 7 Accuracy: 0.9916\n",
    "Class 8 Accuracy: 0.9867\n",
    "Class 9 Accuracy: 1.0000\n",
    "Class 10 Accuracy: 1.0000\n",
    "Class 11 Accuracy: 1.0000\n",
    "Class 12 Accuracy: 0.9981\n",
    "Class 13 Accuracy: 1.0000\n",
    "Class 14 Accuracy: 1.0000\n",
    "Class 15 Accuracy: 1.0000"
   ]
  },
  {
   "cell_type": "code",
   "execution_count": null,
   "metadata": {},
   "outputs": [],
   "source": [
    "# p13( HSI+Lidar) \n",
    "Finished training. Total training time: 896.55 seconds\n",
    "    Model saved to Early_fusionp13_UH2013_model_state_dict.pth\n",
    "Overall Accuracy (OA): 0.9958\n",
    "Average Accuracy (AA): 0.9968\n",
    "Kappa Coefficient: 0.9955\n",
    "Test time: 3.30 seconds\n",
    "Class 1 Accuracy: 0.9810\n",
    "Class 2 Accuracy: 1.0000\n",
    "Class 3 Accuracy: 1.0000\n",
    "Class 4 Accuracy: 1.0000\n",
    "Class 5 Accuracy: 1.0000\n",
    "Class 6 Accuracy: 1.0000\n",
    "Class 7 Accuracy: 1.0000\n",
    "Class 8 Accuracy: 0.9744\n",
    "Class 9 Accuracy: 1.0000\n",
    "Class 10 Accuracy: 1.0000\n",
    "Class 11 Accuracy: 1.0000\n",
    "Class 12 Accuracy: 0.9962\n",
    "Class 13 Accuracy: 1.0000\n",
    "Class 14 Accuracy: 1.0000\n",
    "Class 15 Accuracy: 1.0000"
   ]
  },
  {
   "cell_type": "code",
   "execution_count": null,
   "metadata": {},
   "outputs": [],
   "source": [
    "# p15( HSI+Lidar) \n",
    "Finished training. Total training time: 1036.45 seconds\n",
    "    Model saved to Early_fusionp15_UH2013_model_state_dict.pth\n",
    "Overall Accuracy (OA): 0.9957\n",
    "Average Accuracy (AA): 0.9967\n",
    "Kappa Coefficient: 0.9953\n",
    "Test time: 4.30 seconds\n",
    "Class 1 Accuracy: 0.9972\n",
    "Class 2 Accuracy: 0.9897\n",
    "Class 3 Accuracy: 1.0000\n",
    "Class 4 Accuracy: 1.0000\n",
    "Class 5 Accuracy: 1.0000\n",
    "Class 6 Accuracy: 1.0000\n",
    "Class 7 Accuracy: 0.9935\n",
    "Class 8 Accuracy: 0.9744\n",
    "Class 9 Accuracy: 1.0000\n",
    "Class 10 Accuracy: 1.0000\n",
    "Class 11 Accuracy: 1.0000\n",
    "Class 12 Accuracy: 0.9952\n",
    "Class 13 Accuracy: 1.0000\n",
    "Class 14 Accuracy: 1.0000\n",
    "Class 15 Accuracy: 1.0000"
   ]
  },
  {
   "cell_type": "code",
   "execution_count": null,
   "metadata": {},
   "outputs": [],
   "source": [
    "# p17( HSI+Lidar) \n",
    "Finished training. Total training time: 1216.32 seconds\n",
    "Model saved to Early_fusionp17_UH2013_model_state_dict.pth\n",
    "Overall Accuracy (OA): 0.9967\n",
    "Average Accuracy (AA): 0.9975\n",
    "Kappa Coefficient: 0.9964\n",
    "Test time: 4.90 seconds\n",
    "Class 1 Accuracy: 0.9981\n",
    "Class 2 Accuracy: 0.9915\n",
    "Class 3 Accuracy: 1.0000\n",
    "Class 4 Accuracy: 0.9934\n",
    "Class 5 Accuracy: 1.0000\n",
    "Class 6 Accuracy: 1.0000\n",
    "Class 7 Accuracy: 0.9907\n",
    "Class 8 Accuracy: 1.0000\n",
    "Class 9 Accuracy: 0.9906\n",
    "Class 10 Accuracy: 1.0000\n",
    "Class 11 Accuracy: 1.0000\n",
    "Class 12 Accuracy: 0.9981\n",
    "Class 13 Accuracy: 1.0000\n",
    "Class 14 Accuracy: 1.0000\n",
    "Class 15 Accuracy: 1.0000"
   ]
  },
  {
   "cell_type": "markdown",
   "metadata": {},
   "source": [
    "# Original Code Test "
   ]
  },
  {
   "cell_type": "code",
   "execution_count": null,
   "metadata": {},
   "outputs": [],
   "source": [
    "#Only LiDAR\n"
   ]
  },
  {
   "cell_type": "code",
   "execution_count": null,
   "metadata": {},
   "outputs": [],
   "source": [
    "# Only HSI\n",
    "Model saved to Early_fusionp11_UH2013_model_state_dict.pth\n",
    "Overall Accuracy (OA): 0.9828\n",
    "Average Accuracy (AA): 0.9855\n",
    "Kappa Coefficient: 0.9813\n",
    "Test time: 1.59 seconds\n",
    "Class 1 Accuracy: 0.9782\n",
    "Class 2 Accuracy: 0.9981\n",
    "Class 3 Accuracy: 1.0000\n",
    "Class 4 Accuracy: 0.9972\n",
    "Class 5 Accuracy: 1.0000\n",
    "Class 6 Accuracy: 1.0000\n",
    "Class 7 Accuracy: 0.9701\n",
    "Class 8 Accuracy: 0.9582\n",
    "Class 9 Accuracy: 0.9518\n",
    "Class 10 Accuracy: 0.9923\n",
    "Class 11 Accuracy: 0.9867\n",
    "Class 12 Accuracy: 0.9750\n",
    "Class 13 Accuracy: 0.9754\n",
    "Class 14 Accuracy: 1.0000\n",
    "Class 15 Accuracy: 1.0000"
   ]
  },
  {
   "cell_type": "markdown",
   "metadata": {},
   "source": [
    "# Defined Location Trainign Samples  Experiments "
   ]
  },
  {
   "cell_type": "code",
   "execution_count": null,
   "metadata": {},
   "outputs": [],
   "source": [
    "Model saved to Early_fusionp11_UH2013_model_state_dict.pth\n",
    "Overall Accuracy (OA): 0.9759\n",
    "Average Accuracy (AA): 0.9777\n",
    "Kappa Coefficient: 0.9738\n",
    "Test time: 1.63 seconds\n",
    "Class 1 Accuracy: 0.9753\n",
    "Class 2 Accuracy: 0.9944\n",
    "Class 3 Accuracy: 1.0000\n",
    "Class 4 Accuracy: 0.9991\n",
    "Class 5 Accuracy: 1.0000\n",
    "Class 6 Accuracy: 0.9860\n",
    "Class 7 Accuracy: 0.9767\n",
    "Class 8 Accuracy: 0.9658\n",
    "Class 9 Accuracy: 0.9471\n",
    "Class 10 Accuracy: 0.9759\n",
    "Class 11 Accuracy: 0.9554\n",
    "Class 12 Accuracy: 0.9491\n",
    "Class 13 Accuracy: 0.9404\n",
    "Class 14 Accuracy: 1.0000\n",
    "Class 15 Accuracy: 1.0000"
   ]
  },
  {
   "cell_type": "code",
   "execution_count": null,
   "metadata": {},
   "outputs": [],
   "source": []
  },
  {
   "cell_type": "code",
   "execution_count": null,
   "metadata": {},
   "outputs": [],
   "source": []
  },
  {
   "cell_type": "code",
   "execution_count": null,
   "metadata": {},
   "outputs": [],
   "source": []
  },
  {
   "cell_type": "code",
   "execution_count": null,
   "metadata": {},
   "outputs": [],
   "source": []
  },
  {
   "cell_type": "code",
   "execution_count": null,
   "metadata": {},
   "outputs": [],
   "source": []
  },
  {
   "cell_type": "code",
   "execution_count": null,
   "metadata": {},
   "outputs": [],
   "source": []
  },
  {
   "cell_type": "markdown",
   "metadata": {},
   "source": [
    "# Random Trainign samples Test "
   ]
  },
  {
   "cell_type": "code",
   "execution_count": null,
   "metadata": {},
   "outputs": [],
   "source": [
    "Finished training. Total training time: 521.93 seconds\n",
    "Model saved to Early_fusionp1_UH2013_model_state_dict.pth\n",
    "Overall Accuracy (OA): 0.9711\n",
    "Average Accuracy (AA): 0.9740\n",
    "Kappa Coefficient: 0.9687\n",
    "Test time: 0.69 seconds\n",
    "Class 1 Accuracy: 0.9744\n",
    "Class 2 Accuracy: 0.9850\n",
    "Class 3 Accuracy: 1.0000\n",
    "Class 4 Accuracy: 0.9915\n",
    "Class 5 Accuracy: 0.9877\n",
    "Class 6 Accuracy: 0.9930\n",
    "Class 7 Accuracy: 0.9608\n",
    "Class 8 Accuracy: 0.9801\n",
    "Class 9 Accuracy: 0.9433\n",
    "Class 10 Accuracy: 0.9846\n",
    "Class 11 Accuracy: 0.9288\n",
    "Class 12 Accuracy: 0.9500\n",
    "Class 13 Accuracy: 0.9333\n",
    "Class 14 Accuracy: 1.0000\n",
    "Class 15 Accuracy: 0.9979"
   ]
  },
  {
   "cell_type": "code",
   "execution_count": null,
   "metadata": {},
   "outputs": [],
   "source": [
    "Finished training. Total training time: 249.86 seconds\n",
    "Model saved to Early_fusionp3_UH2013_model_state_dict.pth\n",
    "Overall Accuracy (OA): 0.9875\n",
    "Average Accuracy (AA): 0.9891\n",
    "Kappa Coefficient: 0.9865\n",
    "Test time: 0.72 seconds\n",
    "Class 1 Accuracy: 1.0000\n",
    "Class 2 Accuracy: 0.9925\n",
    "Class 3 Accuracy: 0.9980\n",
    "Class 4 Accuracy: 0.9744\n",
    "Class 5 Accuracy: 1.0000\n",
    "Class 6 Accuracy: 1.0000\n",
    "Class 7 Accuracy: 0.9739\n",
    "Class 8 Accuracy: 0.9839\n",
    "Class 9 Accuracy: 0.9641\n",
    "Class 10 Accuracy: 0.9961\n",
    "Class 11 Accuracy: 0.9867\n",
    "Class 12 Accuracy: 0.9923\n",
    "Class 13 Accuracy: 0.9789\n",
    "Class 14 Accuracy: 0.9960\n",
    "Class 15 Accuracy: 1.0000"
   ]
  },
  {
   "cell_type": "code",
   "execution_count": 180,
   "metadata": {},
   "outputs": [],
   "source": [
    "Finished training. Total training time: 323.01 seconds\n",
    "Model saved to Early_fusionp5_UH2013_model_state_dict.pth\n",
    "Overall Accuracy (OA): 0.9930\n",
    "Average Accuracy (AA): 0.9940\n",
    "Kappa Coefficient: 0.9924\n",
    "Test time: 0.77 seconds\n",
    "Class 1 Accuracy: 1.0000\n",
    "Class 2 Accuracy: 0.9925\n",
    "Class 3 Accuracy: 1.0000\n",
    "Class 4 Accuracy: 0.9991\n",
    "Class 5 Accuracy: 0.9991\n",
    "Class 6 Accuracy: 1.0000\n",
    "Class 7 Accuracy: 0.9851\n",
    "Class 8 Accuracy: 0.9801\n",
    "Class 9 Accuracy: 0.9877\n",
    "Class 10 Accuracy: 0.9903\n",
    "Class 11 Accuracy: 0.9915\n",
    "Class 12 Accuracy: 0.9981\n",
    "Class 13 Accuracy: 0.9860\n",
    "Class 14 Accuracy: 1.0000\n",
    "Class 15 Accuracy: 1.0000"
   ]
  },
  {
   "cell_type": "code",
   "execution_count": null,
   "metadata": {},
   "outputs": [],
   "source": [
    "Finished training. Total training time: 311.71 seconds\n",
    "Model saved to Early_fusionp7_UH2013_model_state_dict.pth\n",
    "Overall Accuracy (OA): 0.9899\n",
    "Average Accuracy (AA): 0.9904\n",
    "Kappa Coefficient: 0.9891\n",
    "Test time: 0.94 seconds\n",
    "Class 1 Accuracy: 0.9981\n",
    "Class 2 Accuracy: 0.9934\n",
    "Class 3 Accuracy: 1.0000\n",
    "Class 4 Accuracy: 0.9972\n",
    "Class 5 Accuracy: 1.0000\n",
    "Class 6 Accuracy: 1.0000\n",
    "Class 7 Accuracy: 0.9795\n",
    "Class 8 Accuracy: 0.9896\n",
    "Class 9 Accuracy: 0.9707\n",
    "Class 10 Accuracy: 0.9903\n",
    "Class 11 Accuracy: 0.9867\n",
    "Class 12 Accuracy: 0.9885\n",
    "Class 13 Accuracy: 0.9614\n",
    "Class 14 Accuracy: 1.0000\n",
    "Class 15 Accuracy: 1.0000"
   ]
  },
  {
   "cell_type": "code",
   "execution_count": null,
   "metadata": {},
   "outputs": [],
   "source": [
    "Finished training. Total training time: 397.16 seconds\n",
    "Model saved to Early_fusionp9_UH2013_model_state_dict.pth\n",
    "Overall Accuracy (OA): 0.9891\n",
    "Average Accuracy (AA): 0.9909\n",
    "Kappa Coefficient: 0.9882\n",
    "Test time: 1.05 seconds\n",
    "Class 1 Accuracy: 0.9858\n",
    "Class 2 Accuracy: 0.9981\n",
    "Class 3 Accuracy: 1.0000\n",
    "Class 4 Accuracy: 0.9991\n",
    "Class 5 Accuracy: 1.0000\n",
    "Class 6 Accuracy: 1.0000\n",
    "Class 7 Accuracy: 0.9832\n",
    "Class 8 Accuracy: 0.9725\n",
    "Class 9 Accuracy: 0.9783\n",
    "Class 10 Accuracy: 0.9952\n",
    "Class 11 Accuracy: 0.9839\n",
    "Class 12 Accuracy: 0.9817\n",
    "Class 13 Accuracy: 0.9860\n",
    "Class 14 Accuracy: 1.0000\n",
    "Class 15 Accuracy: 1.0000\n",
    "1\n"
   ]
  },
  {
   "cell_type": "code",
   "execution_count": null,
   "metadata": {},
   "outputs": [],
   "source": [
    "Finished training. Total training time: 304.01 seconds\n",
    "Model saved to Early_fusionp11_UH2013_model_state_dict.pth\n",
    "Overall Accuracy (OA): 0.9871\n",
    "Average Accuracy (AA): 0.9894\n",
    "Kappa Coefficient: 0.9860\n",
    "Test time: 1.21 seconds\n",
    "Class 1 Accuracy: 0.9839\n",
    "Class 2 Accuracy: 0.9981\n",
    "Class 3 Accuracy: 1.0000\n",
    "Class 4 Accuracy: 0.9991\n",
    "Class 5 Accuracy: 1.0000\n",
    "Class 6 Accuracy: 1.0000\n",
    "Class 7 Accuracy: 0.9841\n",
    "Class 8 Accuracy: 0.9715\n",
    "Class 9 Accuracy: 0.9603\n",
    "Class 10 Accuracy: 0.9923\n",
    "Class 11 Accuracy: 0.9886\n",
    "Class 12 Accuracy: 0.9769\n",
    "Class 13 Accuracy: 0.9860\n",
    "Class 14 Accuracy: 1.0000\n",
    "Class 15 Accuracy: 1.0000"
   ]
  },
  {
   "cell_type": "code",
   "execution_count": null,
   "metadata": {},
   "outputs": [],
   "source": [
    "Finished training. Total training time: 418.69 seconds\n",
    "Model saved to Early_fusionp13_UH2013_model_state_dict.pth\n",
    "Overall Accuracy (OA): 0.9879\n",
    "Average Accuracy (AA): 0.9891\n",
    "Kappa Coefficient: 0.9868\n",
    "Test time: 1.39 seconds\n",
    "Class 1 Accuracy: 0.9886\n",
    "Class 2 Accuracy: 0.9962\n",
    "Class 3 Accuracy: 1.0000\n",
    "Class 4 Accuracy: 0.9953\n",
    "Class 5 Accuracy: 1.0000\n",
    "Class 6 Accuracy: 1.0000\n",
    "Class 7 Accuracy: 0.9841\n",
    "Class 8 Accuracy: 0.9867\n",
    "Class 9 Accuracy: 0.9906\n",
    "Class 10 Accuracy: 0.9923\n",
    "Class 11 Accuracy: 0.9611\n",
    "Class 12 Accuracy: 0.9731\n",
    "Class 13 Accuracy: 0.9684\n",
    "Class 14 Accuracy: 1.0000\n",
    "Class 15 Accuracy: 1.0000"
   ]
  },
  {
   "cell_type": "code",
   "execution_count": null,
   "metadata": {},
   "outputs": [],
   "source": []
  },
  {
   "cell_type": "code",
   "execution_count": null,
   "metadata": {},
   "outputs": [],
   "source": []
  },
  {
   "cell_type": "code",
   "execution_count": null,
   "metadata": {},
   "outputs": [],
   "source": []
  },
  {
   "cell_type": "code",
   "execution_count": null,
   "metadata": {},
   "outputs": [],
   "source": []
  },
  {
   "cell_type": "code",
   "execution_count": null,
   "metadata": {},
   "outputs": [],
   "source": []
  },
  {
   "cell_type": "code",
   "execution_count": null,
   "metadata": {},
   "outputs": [],
   "source": []
  },
  {
   "cell_type": "code",
   "execution_count": null,
   "metadata": {},
   "outputs": [],
   "source": []
  },
  {
   "cell_type": "markdown",
   "metadata": {
    "id": "spoYFJiQgbQ7"
   },
   "source": [
    "# 5.2 Training for HSI+Lidar in Middle Features  "
   ]
  },
  {
   "cell_type": "code",
   "execution_count": null,
   "metadata": {
    "colab": {
     "base_uri": "https://localhost:8080/"
    },
    "id": "qlpOQlNKXvaN",
    "outputId": "76d7186d-ab68-4737-87b0-404bbe32d3ce"
   },
   "outputs": [
    {
     "name": "stdout",
     "output_type": "stream",
     "text": [
      "Initial Memory Allocated: 110.053888 MB\n"
     ]
    }
   ],
   "source": [
    "# Before the training loop, to record the initial memory usage (GPU)\n",
    "if torch.cuda.is_available():\n",
    "    torch.cuda.reset_peak_memory_stats()  # Reset peak memory stats at the start\n",
    "    initial_memory = torch.cuda.memory_allocated()\n",
    "    print(f\"Initial Memory Allocated: {initial_memory / 1e6} MB\")"
   ]
  },
  {
   "cell_type": "code",
   "execution_count": null,
   "metadata": {
    "id": "Tl9E80OynMPS"
   },
   "outputs": [],
   "source": [
    "\n",
    "# Instantiate the model\n",
    "model = HSILidClassificationMambaModel(\n",
    "    spatial_dim=1,\n",
    "    hsi_num_bands=144,\n",
    "    lidar_num_bands=1,\n",
    "    hidden_dim=256,\n",
    "    output_dim=128,\n",
    "    delta_param_init=0.01,\n",
    "    num_classes=15\n",
    ")"
   ]
  },
  {
   "cell_type": "code",
   "execution_count": null,
   "metadata": {
    "colab": {
     "base_uri": "https://localhost:8080/"
    },
    "id": "dS0yaP3dgbQ7",
    "outputId": "8e104c12-4173-4d2c-b695-21f493d29840"
   },
   "outputs": [
    {
     "name": "stdout",
     "output_type": "stream",
     "text": [
      "Epoch [1/50], Train Loss: 1.4360, Val Loss: 0.9473\n",
      "Validation Loss Decreased(inf--->0.947280) \t Saving The Model\n",
      "Epoch [2/50], Train Loss: 0.8376, Val Loss: 0.7040\n",
      "Validation Loss Decreased(0.947280--->0.703954) \t Saving The Model\n",
      "Epoch [3/50], Train Loss: 0.6435, Val Loss: 0.5636\n",
      "Validation Loss Decreased(0.703954--->0.563638) \t Saving The Model\n",
      "Epoch [4/50], Train Loss: 0.5145, Val Loss: 0.4697\n",
      "Validation Loss Decreased(0.563638--->0.469653) \t Saving The Model\n",
      "Epoch [5/50], Train Loss: 0.4397, Val Loss: 0.5063\n",
      "Epoch [6/50], Train Loss: 0.3826, Val Loss: 0.3038\n",
      "Validation Loss Decreased(0.469653--->0.303772) \t Saving The Model\n",
      "Epoch [7/50], Train Loss: 0.3305, Val Loss: 0.2943\n",
      "Validation Loss Decreased(0.303772--->0.294288) \t Saving The Model\n",
      "Epoch [8/50], Train Loss: 0.2931, Val Loss: 0.2603\n",
      "Validation Loss Decreased(0.294288--->0.260300) \t Saving The Model\n",
      "Epoch [9/50], Train Loss: 0.2654, Val Loss: 0.2374\n",
      "Validation Loss Decreased(0.260300--->0.237391) \t Saving The Model\n",
      "Epoch [10/50], Train Loss: 0.2392, Val Loss: 0.2866\n",
      "Epoch [11/50], Train Loss: 0.2248, Val Loss: 0.3103\n",
      "Epoch [12/50], Train Loss: 0.2046, Val Loss: 0.4121\n",
      "Epoch [13/50], Train Loss: 0.1922, Val Loss: 0.1914\n",
      "Validation Loss Decreased(0.237391--->0.191416) \t Saving The Model\n",
      "Epoch [14/50], Train Loss: 0.1784, Val Loss: 0.1759\n",
      "Validation Loss Decreased(0.191416--->0.175931) \t Saving The Model\n",
      "Epoch [15/50], Train Loss: 0.1596, Val Loss: 0.2895\n",
      "Epoch [16/50], Train Loss: 0.1482, Val Loss: 0.1336\n",
      "Validation Loss Decreased(0.175931--->0.133553) \t Saving The Model\n",
      "Epoch [17/50], Train Loss: 0.1375, Val Loss: 0.1160\n",
      "Validation Loss Decreased(0.133553--->0.116021) \t Saving The Model\n",
      "Epoch [18/50], Train Loss: 0.1401, Val Loss: 0.1175\n",
      "Epoch [19/50], Train Loss: 0.1238, Val Loss: 0.1690\n",
      "Epoch [20/50], Train Loss: 0.1179, Val Loss: 0.3914\n",
      "Epoch [21/50], Train Loss: 0.1153, Val Loss: 0.2092\n",
      "Epoch [22/50], Train Loss: 0.1097, Val Loss: 0.4812\n",
      "Epoch [23/50], Train Loss: 0.1075, Val Loss: 0.1912\n",
      "Epoch [24/50], Train Loss: 0.0976, Val Loss: 0.0731\n",
      "Validation Loss Decreased(0.116021--->0.073091) \t Saving The Model\n",
      "Epoch [25/50], Train Loss: 0.0886, Val Loss: 0.1502\n",
      "Epoch [26/50], Train Loss: 0.0840, Val Loss: 0.1685\n",
      "Epoch [27/50], Train Loss: 0.0857, Val Loss: 0.1725\n",
      "Epoch [28/50], Train Loss: 0.0757, Val Loss: 0.1205\n",
      "Epoch [29/50], Train Loss: 0.0817, Val Loss: 0.1180\n",
      "Epoch [30/50], Train Loss: 0.0755, Val Loss: 0.1921\n",
      "Epoch [31/50], Train Loss: 0.0691, Val Loss: 0.2146\n",
      "Epoch [32/50], Train Loss: 0.0688, Val Loss: 0.0912\n",
      "Epoch [33/50], Train Loss: 0.0732, Val Loss: 0.1826\n",
      "Epoch [34/50], Train Loss: 0.0617, Val Loss: 0.0942\n",
      "Epoch [35/50], Train Loss: 0.0523, Val Loss: 0.1499\n",
      "Early stopping!\n",
      "Finished training. Total training time: 163.66 seconds\n"
     ]
    }
   ],
   "source": [
    "# 2.0 HSI+Lidar\n",
    "import torch\n",
    "import torch.nn as nn\n",
    "import torch.optim as optim\n",
    "from torch.utils.data import DataLoader\n",
    "import copy\n",
    "import time  # Step 1: Import the time module\n",
    "\n",
    "model = model.to(device)\n",
    "criterion = nn.CrossEntropyLoss()\n",
    "optimizer = optim.Adam(model.parameters(), lr=0.00001)\n",
    "\n",
    "epochs = 50\n",
    "best_val_loss = float('inf')\n",
    "best_model_wts = copy.deepcopy(model.state_dict())\n",
    "patience = 10\n",
    "\n",
    "start_time = time.time()  # Step 2: Record the start time\n",
    "# Updated Training Loop with HSI and LiDAR data\n",
    "for epoch in range(epochs):\n",
    "    model.train()  # Set model to training mode\n",
    "    running_train_loss = 0.0\n",
    "\n",
    "    # Iterate over data.\n",
    "    for (hsi_inputs, labels), (lidar_inputs, _) in zip(hsi_train_loader, Lidar_train_loader):\n",
    "        hsi_inputs = hsi_inputs.to(device)\n",
    "        lidar_inputs = lidar_inputs.to(device)\n",
    "        labels -= 1\n",
    "        labels = labels.to(device)\n",
    "\n",
    "        optimizer.zero_grad()  # Zero the parameter gradients\n",
    "\n",
    "\n",
    "        # Forward pass\n",
    "        outputs = model(hsi_inputs, lidar_inputs)\n",
    "        loss = criterion(outputs, labels)\n",
    "\n",
    "        # Backward pass and optimize\n",
    "        loss.backward()\n",
    "        optimizer.step()\n",
    "\n",
    "        running_train_loss += loss.item() * hsi_inputs.size(0)\n",
    "\n",
    "    epoch_train_loss = running_train_loss / len(hsi_train_loader.dataset)\n",
    "\n",
    "    # Validation phase\n",
    "    model.eval()\n",
    "    val_running_loss = 0.0\n",
    "    with torch.no_grad():\n",
    "        for (hsi_inputs, labels), (lidar_inputs, _) in zip(hsi_val_loader, Lidar_val_loader):\n",
    "            hsi_inputs = hsi_inputs.to(device)\n",
    "            lidar_inputs = lidar_inputs.to(device)\n",
    "            labels -= 1\n",
    "            labels = labels.to(device)\n",
    "\n",
    "            outputs = model(hsi_inputs, lidar_inputs)\n",
    "            loss = criterion(outputs, labels)\n",
    "\n",
    "            val_running_loss += loss.item() * hsi_inputs.size(0)\n",
    "\n",
    "        epoch_val_loss = val_running_loss / len(hsi_val_loader.dataset)\n",
    "\n",
    "    print(f'Epoch [{epoch+1}/{epochs}], Train Loss: {epoch_train_loss:.4f}, Val Loss: {epoch_val_loss:.4f}')\n",
    "\n",
    "    # Check if this is the best model (based on validation loss)\n",
    "    if epoch_val_loss < best_val_loss:\n",
    "        print(f'Validation Loss Decreased({best_val_loss:.6f}--->{epoch_val_loss:.6f}) \\t Saving The Model')\n",
    "        best_val_loss = epoch_val_loss\n",
    "        best_model_wts = copy.deepcopy(model.state_dict())\n",
    "        no_improve_epochs = 0\n",
    "    else:\n",
    "        no_improve_epochs += 1\n",
    "\n",
    "    # Early stopping\n",
    "    if no_improve_epochs > patience:\n",
    "        print('Early stopping!')\n",
    "        break\n",
    "\n",
    "model.load_state_dict(best_model_wts)  # Load best model weights\n",
    "\n",
    "end_time = time.time()  # Record the end time\n",
    "total_time = end_time - start_time  # Calculate total training time\n",
    "print(f'Finished training. Total training time: {total_time:.2f} seconds')  #\n"
   ]
  },
  {
   "cell_type": "code",
   "execution_count": null,
   "metadata": {
    "id": "dSND1JW9gbQ7",
    "outputId": "6971626c-ecd5-4bbb-aae6-1bddb1a760d9"
   },
   "outputs": [
    {
     "name": "stdout",
     "output_type": "stream",
     "text": [
      "Peak Memory Allocated During Training: 159.74656 MB\n",
      "Final Memory Allocated: 118.55872 MB\n"
     ]
    }
   ],
   "source": [
    "\n",
    "# After the training loop, to record the final memory usage (GPU)\n",
    "if torch.cuda.is_available():\n",
    "    # Calculate the peak memory usage during the training\n",
    "    peak_memory = torch.cuda.max_memory_allocated()\n",
    "    # Calculate the final memory usage after training\n",
    "    final_memory = torch.cuda.memory_allocated()\n",
    "\n",
    "    # Reset memory stats for future measurements\n",
    "    torch.cuda.reset_peak_memory_stats()\n",
    "\n",
    "    print(f\"Peak Memory Allocated During Training: {peak_memory / 1e6} MB\")\n",
    "    print(f\"Final Memory Allocated: {final_memory / 1e6} MB\")"
   ]
  },
  {
   "cell_type": "code",
   "execution_count": null,
   "metadata": {
    "id": "QxfBuAYlgbQ8"
   },
   "outputs": [],
   "source": [
    "# Assuming 'model' is your instance of HSIClassificationModel or any other model\n",
    "# and it's been trained\n",
    "# Save the model\n",
    "model_save_path =  'mid_fusionp1_UH2013_model_state_dict.pth'\n",
    "torch.save(model.state_dict(), model_save_path)\n"
   ]
  },
  {
   "cell_type": "code",
   "execution_count": null,
   "metadata": {
    "id": "AlYLEgApgbQ8",
    "outputId": "f7be2853-e2fc-4e35-9bc4-531c39e72f4d"
   },
   "outputs": [
    {
     "name": "stdout",
     "output_type": "stream",
     "text": [
      "Overall Accuracy (OA): 0.9456\n",
      "Average Accuracy (AA): 0.9478\n",
      "Kappa Coefficient: 0.9410\n",
      "Test time: 1.75 seconds\n"
     ]
    }
   ],
   "source": [
    "import torch\n",
    "import numpy as np\n",
    "from sklearn.metrics import confusion_matrix, accuracy_score, cohen_kappa_score\n",
    "import time\n",
    "\n",
    "# Load the model\n",
    "model.load_state_dict(torch.load(model_save_path))\n",
    "model.to(device)\n",
    "model.eval()  # Set the model to evaluation mode\n",
    "\n",
    "predictions = []\n",
    "actual_labels = []\n",
    "\n",
    "start_time = time.time()\n",
    "\n",
    "with torch.no_grad():\n",
    "    for (hsi_patches, hsi_labels), (lidar_patches, _) in zip(hsi_test_loader, Lidar_test_loader):\n",
    "        hsi_patches = hsi_patches.to(device)\n",
    "        lidar_patches = lidar_patches.to(device)\n",
    "        hsi_labels -= 1\n",
    "        hsi_labels = hsi_labels.to(device)\n",
    "\n",
    "        # Forward pass using both HSI and LiDAR patches\n",
    "        outputs = model(hsi_patches, lidar_patches)\n",
    "\n",
    "        # Get predictions\n",
    "        _, predicted = torch.max(outputs, 1)\n",
    "        predictions.extend(predicted.cpu().numpy())\n",
    "        actual_labels.extend(hsi_labels.cpu().numpy())\n",
    "\n",
    "end_time = time.time()\n",
    "test_time = end_time - start_time\n",
    "\n",
    "# Convert lists to NumPy arrays for calculation\n",
    "predictions_array = np.array(predictions)\n",
    "actual_labels_array = np.array(actual_labels)\n",
    "\n",
    "# Calculate metrics\n",
    "oa = accuracy_score(actual_labels_array, predictions_array)\n",
    "cm = confusion_matrix(actual_labels_array, predictions_array)\n",
    "class_accuracy = cm.diagonal() / cm.sum(axis=1)\n",
    "aa = np.mean(class_accuracy)\n",
    "kappa = cohen_kappa_score(actual_labels_array, predictions_array)\n",
    "\n",
    "print(f'Overall Accuracy (OA): {oa:.4f}')\n",
    "print(f'Average Accuracy (AA): {aa:.4f}')\n",
    "print(f'Kappa Coefficient: {kappa:.4f}')\n",
    "print(f'Test time: {test_time:.2f} seconds')\n"
   ]
  },
  {
   "cell_type": "code",
   "execution_count": null,
   "metadata": {
    "id": "05W4WC4jWlz-",
    "outputId": "45803c31-0b36-497a-8abe-a21dd738e3d4"
   },
   "outputs": [
    {
     "name": "stdout",
     "output_type": "stream",
     "text": [
      "Class 1 Accuracy: 0.9839\n",
      "Class 2 Accuracy: 0.9492\n",
      "Class 3 Accuracy: 0.9960\n",
      "Class 4 Accuracy: 0.9830\n",
      "Class 5 Accuracy: 0.9905\n",
      "Class 6 Accuracy: 0.9930\n",
      "Class 7 Accuracy: 0.9823\n",
      "Class 8 Accuracy: 0.9563\n",
      "Class 9 Accuracy: 0.8451\n",
      "Class 10 Accuracy: 0.9363\n",
      "Class 11 Accuracy: 0.9222\n",
      "Class 12 Accuracy: 0.8780\n",
      "Class 13 Accuracy: 0.8070\n",
      "Class 14 Accuracy: 0.9960\n",
      "Class 15 Accuracy: 0.9979\n"
     ]
    }
   ],
   "source": [
    "for i, acc in enumerate(class_accuracy): print(f'Class {i+1} Accuracy: {acc:.4f}')"
   ]
  },
  {
   "cell_type": "code",
   "execution_count": 267,
   "metadata": {
    "id": "OcRUYiWIWlz-"
   },
   "outputs": [
    {
     "data": {
      "image/png": "[encoded data removed]",
      "text/plain": [
       "<Figure size 1000x600 with 1 Axes>"
      ]
     },
     "metadata": {},
     "output_type": "display_data"
    }
   ],
   "source": [
    "import matplotlib.pyplot as plt\n",
    "\n",
    "# Data for the plot\n",
    "patch_sizes = ['P1', 'P3', 'P5', 'P7', 'P9', 'P11', 'P13', 'P15']\n",
    "trento_oa = [0.9239, 0.9878, 0.9949, 0.9939, 0.9962, 0.9972, 0.9968, 0.9950]\n",
    "houston_oa = [0.956, 0.9954, 0.9986, 0.9993, 0.9989, 0.9971, 0.9958, 0.9957]\n",
    "\n",
    "# Plotting\n",
    "plt.figure(figsize=(10, 6))\n",
    "plt.plot(patch_sizes, trento_oa, marker='o', label='Trento')\n",
    "plt.plot(patch_sizes, houston_oa, marker='s', label='Houston 2013')\n",
    "\n",
    "# Adding labels, title, and legend\n",
    "plt.xlabel('Patch Size')\n",
    "plt.ylabel('Overall Accuracy (OA)')\n",
    "plt.title('OA Performance Based on Houston 2013 and Trento Different Patch Size')\n",
    "plt.legend(loc='lower right')\n",
    "plt.grid(True)\n",
    "\n",
    "# Show plot\n",
    "plt.show()\n"
   ]
  },
  {
   "cell_type": "code",
   "execution_count": null,
   "metadata": {},
   "outputs": [],
   "source": []
  }
 ],
 "metadata": {
  "accelerator": "TPU",
  "colab": {
   "gpuType": "V28",
   "provenance": [
    {
     "file_id": "1vdJ_og-9a0BNRBZE0hTdttrwRQPEhjSh",
     "timestamp": 1729546157083
    }
   ]
  },
  "kernelspec": {
   "display_name": "Python 3 (ipykernel)",
   "language": "python",
   "name": "python3"
  },
  "language_info": {
   "codemirror_mode": {
    "name": "ipython",
    "version": 3
   },
   "file_extension": ".py",
   "mimetype": "text/x-python",
   "name": "python",
   "nbconvert_exporter": "python",
   "pygments_lexer": "ipython3",
   "version": "3.11.0"
  }
 },
 "nbformat": 4,
 "nbformat_minor": 1
}
